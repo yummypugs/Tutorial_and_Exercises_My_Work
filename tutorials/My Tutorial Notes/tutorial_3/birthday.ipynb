{
 "cells": [
  {
   "cell_type": "markdown",
   "source": [],
   "metadata": {
    "collapsed": false
   }
  },
  {
   "cell_type": "code",
   "execution_count": 2,
   "outputs": [],
   "source": [
    "import pandas as pd\n",
    "import datetime as dt"
   ],
   "metadata": {
    "collapsed": false
   }
  },
  {
   "cell_type": "code",
   "execution_count": 3,
   "outputs": [
    {
     "data": {
      "text/plain": "  stem-height stem-width\n0    [15, 20]   [15, 20]\n1     [6, 10]   [10, 20]\n2    [10, 12]   [10, 20]\n3     [7, 15]   [10, 25]\n4    [10, 12]   [10, 20]\n5      [5, 7]   [10, 15]",
      "text/html": "<div>\n<style scoped>\n    .dataframe tbody tr th:only-of-type {\n        vertical-align: middle;\n    }\n\n    .dataframe tbody tr th {\n        vertical-align: top;\n    }\n\n    .dataframe thead th {\n        text-align: right;\n    }\n</style>\n<table border=\"1\" class=\"dataframe\">\n  <thead>\n    <tr style=\"text-align: right;\">\n      <th></th>\n      <th>stem-height</th>\n      <th>stem-width</th>\n    </tr>\n  </thead>\n  <tbody>\n    <tr>\n      <th>0</th>\n      <td>[15, 20]</td>\n      <td>[15, 20]</td>\n    </tr>\n    <tr>\n      <th>1</th>\n      <td>[6, 10]</td>\n      <td>[10, 20]</td>\n    </tr>\n    <tr>\n      <th>2</th>\n      <td>[10, 12]</td>\n      <td>[10, 20]</td>\n    </tr>\n    <tr>\n      <th>3</th>\n      <td>[7, 15]</td>\n      <td>[10, 25]</td>\n    </tr>\n    <tr>\n      <th>4</th>\n      <td>[10, 12]</td>\n      <td>[10, 20]</td>\n    </tr>\n    <tr>\n      <th>5</th>\n      <td>[5, 7]</td>\n      <td>[10, 15]</td>\n    </tr>\n  </tbody>\n</table>\n</div>"
     },
     "execution_count": 3,
     "metadata": {},
     "output_type": "execute_result"
    }
   ],
   "source": [
    "mushroom = pd.read_csv(\"https://mushroom.mathematik.uni-marburg.de/files/PrimaryData/primary_data_edited.csv\", sep=\";\")\n",
    "mushroom.loc[:5, [\"stem-height\", \"stem-width\"]]"
   ],
   "metadata": {
    "collapsed": false
   }
  },
  {
   "cell_type": "code",
   "execution_count": 4,
   "outputs": [
    {
     "data": {
      "text/plain": "  state  year  month  day        date wday  births\n0    AK  1969      1    1  1969-01-01  Wed      14\n1    AL  1969      1    1  1969-01-01  Wed     174\n2    AR  1969      1    1  1969-01-01  Wed      78\n3    AZ  1969      1    1  1969-01-01  Wed      84\n4    CA  1969      1    1  1969-01-01  Wed     824",
      "text/html": "<div>\n<style scoped>\n    .dataframe tbody tr th:only-of-type {\n        vertical-align: middle;\n    }\n\n    .dataframe tbody tr th {\n        vertical-align: top;\n    }\n\n    .dataframe thead th {\n        text-align: right;\n    }\n</style>\n<table border=\"1\" class=\"dataframe\">\n  <thead>\n    <tr style=\"text-align: right;\">\n      <th></th>\n      <th>state</th>\n      <th>year</th>\n      <th>month</th>\n      <th>day</th>\n      <th>date</th>\n      <th>wday</th>\n      <th>births</th>\n    </tr>\n  </thead>\n  <tbody>\n    <tr>\n      <th>0</th>\n      <td>AK</td>\n      <td>1969</td>\n      <td>1</td>\n      <td>1</td>\n      <td>1969-01-01</td>\n      <td>Wed</td>\n      <td>14</td>\n    </tr>\n    <tr>\n      <th>1</th>\n      <td>AL</td>\n      <td>1969</td>\n      <td>1</td>\n      <td>1</td>\n      <td>1969-01-01</td>\n      <td>Wed</td>\n      <td>174</td>\n    </tr>\n    <tr>\n      <th>2</th>\n      <td>AR</td>\n      <td>1969</td>\n      <td>1</td>\n      <td>1</td>\n      <td>1969-01-01</td>\n      <td>Wed</td>\n      <td>78</td>\n    </tr>\n    <tr>\n      <th>3</th>\n      <td>AZ</td>\n      <td>1969</td>\n      <td>1</td>\n      <td>1</td>\n      <td>1969-01-01</td>\n      <td>Wed</td>\n      <td>84</td>\n    </tr>\n    <tr>\n      <th>4</th>\n      <td>CA</td>\n      <td>1969</td>\n      <td>1</td>\n      <td>1</td>\n      <td>1969-01-01</td>\n      <td>Wed</td>\n      <td>824</td>\n    </tr>\n  </tbody>\n</table>\n</div>"
     },
     "execution_count": 4,
     "metadata": {},
     "output_type": "execute_result"
    }
   ],
   "source": [
    " brithdays = pd.read_csv(\"https://calmcode.io/datasets/birthdays.csv\")\n",
    "brithdays.head(5)"
   ],
   "metadata": {
    "collapsed": false
   }
  },
  {
   "cell_type": "code",
   "execution_count": 5,
   "outputs": [
    {
     "name": "stdout",
     "output_type": "stream",
     "text": [
      "<class 'pandas.core.frame.DataFrame'>\n",
      "RangeIndex: 372555 entries, 0 to 372554\n",
      "Data columns (total 7 columns):\n",
      " #   Column  Non-Null Count   Dtype \n",
      "---  ------  --------------   ----- \n",
      " 0   state   372555 non-null  object\n",
      " 1   year    372555 non-null  int64 \n",
      " 2   month   372555 non-null  int64 \n",
      " 3   day     372555 non-null  int64 \n",
      " 4   date    372555 non-null  object\n",
      " 5   wday    372555 non-null  object\n",
      " 6   births  372555 non-null  int64 \n",
      "dtypes: int64(4), object(3)\n",
      "memory usage: 19.9+ MB\n"
     ]
    }
   ],
   "source": [
    "brithdays.info()"
   ],
   "metadata": {
    "collapsed": false
   }
  },
  {
   "cell_type": "code",
   "execution_count": 6,
   "outputs": [
    {
     "name": "stdout",
     "output_type": "stream",
     "text": [
      "<class 'pandas.core.frame.DataFrame'>\n",
      "RangeIndex: 372555 entries, 0 to 372554\n",
      "Data columns (total 7 columns):\n",
      " #   Column  Non-Null Count   Dtype         \n",
      "---  ------  --------------   -----         \n",
      " 0   state   372555 non-null  object        \n",
      " 1   year    372555 non-null  int64         \n",
      " 2   month   372555 non-null  int64         \n",
      " 3   day     372555 non-null  int64         \n",
      " 4   date    372555 non-null  datetime64[ns]\n",
      " 5   wday    372555 non-null  object        \n",
      " 6   births  372555 non-null  int64         \n",
      "dtypes: datetime64[ns](1), int64(4), object(2)\n",
      "memory usage: 19.9+ MB\n"
     ]
    }
   ],
   "source": [
    "brithdays = pd.read_csv(\"https://calmcode.io/datasets/birthdays.csv\", parse_dates=[\"date\"])\n",
    "brithdays.info()"
   ],
   "metadata": {
    "collapsed": false
   }
  },
  {
   "cell_type": "code",
   "execution_count": 7,
   "outputs": [
    {
     "data": {
      "text/plain": "        date   wday  day_of_year  births  month\n0 1969-01-01    Wed            1    8486      1\n1 1969-01-02  Thurs            2    9002      1\n2 1969-01-03    Fri            3    9542      1\n3 1969-01-04    Sat            4    8960      1\n4 1969-01-05    Sun            5    8390      1",
      "text/html": "<div>\n<style scoped>\n    .dataframe tbody tr th:only-of-type {\n        vertical-align: middle;\n    }\n\n    .dataframe tbody tr th {\n        vertical-align: top;\n    }\n\n    .dataframe thead th {\n        text-align: right;\n    }\n</style>\n<table border=\"1\" class=\"dataframe\">\n  <thead>\n    <tr style=\"text-align: right;\">\n      <th></th>\n      <th>date</th>\n      <th>wday</th>\n      <th>day_of_year</th>\n      <th>births</th>\n      <th>month</th>\n    </tr>\n  </thead>\n  <tbody>\n    <tr>\n      <th>0</th>\n      <td>1969-01-01</td>\n      <td>Wed</td>\n      <td>1</td>\n      <td>8486</td>\n      <td>1</td>\n    </tr>\n    <tr>\n      <th>1</th>\n      <td>1969-01-02</td>\n      <td>Thurs</td>\n      <td>2</td>\n      <td>9002</td>\n      <td>1</td>\n    </tr>\n    <tr>\n      <th>2</th>\n      <td>1969-01-03</td>\n      <td>Fri</td>\n      <td>3</td>\n      <td>9542</td>\n      <td>1</td>\n    </tr>\n    <tr>\n      <th>3</th>\n      <td>1969-01-04</td>\n      <td>Sat</td>\n      <td>4</td>\n      <td>8960</td>\n      <td>1</td>\n    </tr>\n    <tr>\n      <th>4</th>\n      <td>1969-01-05</td>\n      <td>Sun</td>\n      <td>5</td>\n      <td>8390</td>\n      <td>1</td>\n    </tr>\n  </tbody>\n</table>\n</div>"
     },
     "execution_count": 7,
     "metadata": {},
     "output_type": "execute_result"
    }
   ],
   "source": [
    " brithdays[\"day_of_year\"] = brithdays[\"date\"].dt.dayofyear\n",
    "brithdays = brithdays.groupby([\"date\", \"wday\", \"day_of_year\"]).agg(\n",
    "    births=(\"births\", \"sum\"), month=(\"month\", \"first\")\n",
    ").reset_index()\n",
    "brithdays.head(5)"
   ],
   "metadata": {
    "collapsed": false
   }
  },
  {
   "cell_type": "code",
   "execution_count": 8,
   "outputs": [],
   "source": [
    "def clean_dataset(frame):\n",
    "    \"\"\"\n",
    "    Clean birthdays dataset.\n",
    "\n",
    "    Args:\n",
    "        frame (pd.DataFrame): The data frame to be cleaned\n",
    "\n",
    "    Returns:\n",
    "        pd.DataFrame: The cleaned data frame\n",
    "    \"\"\"\n",
    "    frame[\"day_of_year\"] = frame[\"date\"].dt.dayofyear\n",
    "    frame = frame.groupby([\"date\", \"wday\", \"day_of_year\"]).agg(\n",
    "        births=(\"births\", \"sum\"), month=(\"month\", \"first\")\n",
    "    ).reset_index()\n",
    "    return frame"
   ],
   "metadata": {
    "collapsed": false
   }
  },
  {
   "cell_type": "code",
   "execution_count": 9,
   "outputs": [
    {
     "data": {
      "text/plain": "        date   wday  day_of_year  births  month\n0 1969-01-01    Wed            1    8486      1\n1 1969-01-02  Thurs            2    9002      1\n2 1969-01-03    Fri            3    9542      1\n3 1969-01-04    Sat            4    8960      1\n4 1969-01-05    Sun            5    8390      1",
      "text/html": "<div>\n<style scoped>\n    .dataframe tbody tr th:only-of-type {\n        vertical-align: middle;\n    }\n\n    .dataframe tbody tr th {\n        vertical-align: top;\n    }\n\n    .dataframe thead th {\n        text-align: right;\n    }\n</style>\n<table border=\"1\" class=\"dataframe\">\n  <thead>\n    <tr style=\"text-align: right;\">\n      <th></th>\n      <th>date</th>\n      <th>wday</th>\n      <th>day_of_year</th>\n      <th>births</th>\n      <th>month</th>\n    </tr>\n  </thead>\n  <tbody>\n    <tr>\n      <th>0</th>\n      <td>1969-01-01</td>\n      <td>Wed</td>\n      <td>1</td>\n      <td>8486</td>\n      <td>1</td>\n    </tr>\n    <tr>\n      <th>1</th>\n      <td>1969-01-02</td>\n      <td>Thurs</td>\n      <td>2</td>\n      <td>9002</td>\n      <td>1</td>\n    </tr>\n    <tr>\n      <th>2</th>\n      <td>1969-01-03</td>\n      <td>Fri</td>\n      <td>3</td>\n      <td>9542</td>\n      <td>1</td>\n    </tr>\n    <tr>\n      <th>3</th>\n      <td>1969-01-04</td>\n      <td>Sat</td>\n      <td>4</td>\n      <td>8960</td>\n      <td>1</td>\n    </tr>\n    <tr>\n      <th>4</th>\n      <td>1969-01-05</td>\n      <td>Sun</td>\n      <td>5</td>\n      <td>8390</td>\n      <td>1</td>\n    </tr>\n  </tbody>\n</table>\n</div>"
     },
     "execution_count": 9,
     "metadata": {},
     "output_type": "execute_result"
    }
   ],
   "source": [
    "from birthday import clean_dataset\n",
    "\n",
    "brithdays = pd.read_csv(\"https://calmcode.io/datasets/birthdays.csv\", parse_dates=[\"date\"])\n",
    "brithdays = brithdays.pipe(clean_dataset)\n",
    "brithdays.head(5)\n"
   ],
   "metadata": {
    "collapsed": false
   }
  },
  {
   "cell_type": "code",
   "execution_count": null,
   "outputs": [],
   "source": [],
   "metadata": {
    "collapsed": false
   }
  }
 ],
 "metadata": {
  "kernelspec": {
   "display_name": "Python 3",
   "language": "python",
   "name": "python3"
  },
  "language_info": {
   "codemirror_mode": {
    "name": "ipython",
    "version": 2
   },
   "file_extension": ".py",
   "mimetype": "text/x-python",
   "name": "python",
   "nbconvert_exporter": "python",
   "pygments_lexer": "ipython2",
   "version": "2.7.6"
  }
 },
 "nbformat": 4,
 "nbformat_minor": 0
}
