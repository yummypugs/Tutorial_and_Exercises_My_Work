{
  "cells": [
    {
      "cell_type": "raw",
      "metadata": {},
      "source": [
        "---\n",
        "title: 'Tutorial 1: Setup and Introduction to Python and Pandas'\n",
        "author: Jiawei Li\n",
        "execute:\n",
        "  warning: false\n",
        "---"
      ]
    },
    {
      "cell_type": "markdown",
      "metadata": {},
      "source": [
        "# Introduction\n",
        "\n",
        "Welcome to Introduction to Data Analytics in Business!\n",
        "\n",
        "I'm your TA for this course, Jiawei. I have just finished my master's degree in Applied Data Science, which you have just started. It has been a wild ride and I really hope you will enjoy the journey for next 2 years.\n",
        "\n",
        "Some background about me:\n",
        "\n",
        "- Bachelor's degree in Economics, didn't believe in it, moved to data science.\n",
        "- Generalist or jack of all trades for all sorts of things related to data science, e.g. programming, machine learning, data engineering, data communication.\n",
        "- Too academic for industry and too industrial for academia.\n",
        "- Research interests: AI in Economics.\n",
        "- Professional experiences: Mostly in Finance, from stock exchange to high frequency market making, from DAX corporations to startups.\n",
        "\n",
        "Tutorial time is extremely limited, it is impossible to give you a comprehensive tutorial on anything. I will only cover principles that help you learn on your own. If you don't succeed to follow, please email me ([jiawei@lecittainvisibi.li](mailto:jiawei@lecittainvisibi.li)). We can arrange zoom meetings of any form to address any issues you are facing, e.g. workflows, algorithms, data analytics, readings. Don't hesitate to ask for anything, especially at this early stage of your study.\n",
        "\n",
        "# Setup\n",
        "\n",
        "## Package Managers\n",
        "\n",
        "A package manager is a software tool that automates the process of installing, upgrading, and removing computer programs (incl. software, applications, packages) for a computer consistently. You can think of it as an \"App Store\" for your computers without accounts, passwords and clicking with a mouse. I recommend using [Winget](https://docs.microsoft.com/en-us/windows/package-manager/winget/) for Windows, [Homebrew](https://brew.sh/) for macOS. For Linux and Windows Subsystem for Linux, the choice of package managers usually depends on which distribution you are using.\n",
        "\n",
        "### Windows\n",
        "\n",
        "[Winget](https://docs.microsoft.com/en-us/windows/package-manager/winget/) should be pre-installed on your Windows PC. If not, refer to [documentation](https://docs.microsoft.com/en-us/windows/package-manager/winget/). You can search, install, uninstall applications in Power Shell or Command Prompt.\n",
        "\n",
        "```\n",
        "winget search <APPLICATION-NAME>\n",
        "winget install <APPLICATION-NAME>\n",
        "winget upgrade <APPLICATION-NAME>\n",
        "winget uninstall <APPLICATION-NAME>\n",
        "```\n",
        "\n",
        "For this course, I recommend installing the following software:\n",
        "\n",
        "```\n",
        "winget install Git.Git\n",
        "winget install CondaForge.Mambaforge\n",
        "winget install Microsoft.WindowsTerminal\n",
        "winget install Microsoft.VisualStudioCode\n",
        "```\n",
        "\n",
        "Add the following directories to your Environment Variable `Path`:\n",
        "\n",
        "```\n",
        "C:\\Users\\<USER-NAME>\\mambaforge\\condabin\n",
        "C:\\Program Files\\Git\\cmd\n",
        "```\n",
        "\n",
        "Verify that you have successfully installed git and mambaforge with the following command:\n",
        "\n",
        "    git --help\n",
        "    mamba --help\n",
        "\n",
        "### macOS\n",
        "\n",
        "[Homebrew](https://brew.sh/) needs to be installed by the user of macOS. Open your terminal, type the following command:\n",
        "\n",
        "```\n",
        "/bin/bash -c \"$(curl -fsSL https://raw.githubusercontent.com/Homebrew/install/HEAD/install.sh)\"\n",
        "```\n",
        "\n",
        "![Install Homebrew](brew.png)\n",
        "\n",
        "Similar to Winget, you can search, install, uninstall applications in Terminal.\n",
        "\n",
        "```\n",
        "brew search <APPLICATION-NAME>\n",
        "brew install <APPLICATION-NAME>\n",
        "brew upgrade <APPLICATION-NAME>\n",
        "brew uninstall <APPLICATION-NAME>\n",
        "```\n",
        "\n",
        "![Use Homebrew](brew_search.png)\n",
        "\n",
        "For this course, I recommend installing the following software:\n",
        "\n",
        "```\n",
        "brew install git mambaforge iterm2 visual-studio-code\n",
        "```\n",
        "\n",
        "Please run the following to setup your shell for mambaforge:\n",
        "\n",
        "```\n",
        "conda init \"$(basename \"${SHELL}\")\"\n",
        "```\n",
        "\n",
        "Verify that you have successfully installed git and mambaforge with the following command:\n",
        "\n",
        "```\n",
        "git --help\n",
        "mamba --help\n",
        "```\n",
        "\n",
        "![Validate mamba installation](mamba_validation.png)\n",
        "\n",
        "## Git\n",
        "\n",
        "Git is a version control software. Forget about `presentation_version_final.pptx` `presentation_version_final_final.pptx` on your shared folders that nobody can figure out which file to use. Git gives you the superpower to track code changes and sync your work with your teammates. We start from the very basics, which is the file system navigation and the `clone` command.\n",
        "\n",
        "In your terminal (it can be any terminal, e.g. Windows Terminal, iTerm2, VS Code), you usually start at the user's folder, denoted as `~`. You can list your current files with `ls` command:\n",
        "\n",
        "```\n",
        "ls\n",
        "```\n",
        "\n",
        "Then you can move to different folder using `cd`:\n",
        "\n",
        "```\n",
        "cd Documents\n",
        "```\n",
        "\n",
        "It is always recommended to have a unique folder for your code and projects. Let's create a folder called `Code` using `mkdir`:\n",
        "\n",
        "```\n",
        "mkdir Code\n",
        "```\n",
        "\n",
        "And we can `cd` into it:\n",
        "\n",
        "```\n",
        "cd Code\n",
        "```\n",
        "\n",
        "Now, we are ready to clone this course's Git repository using `git`:\n",
        "\n",
        "```\n",
        "git clone https://gitlab.com/ComputationalScience/intro-data-analytics.git\n",
        "```\n",
        "\n",
        "Again, we `cd` into it:\n",
        "\n",
        "```\n",
        "cd intro-data-analytics\n",
        "```\n",
        "\n",
        "This folder has already been initialized, and it is your \"local\" folder, which is different to the \"remote\" folder that everyone sees. You can do all the git operations locally without pushing to the remote folder. For this `intro-data-analytics` folder, you cannot push any changes because you do not have the permission, which might be a good thing since you know you will not accidentally delete the whole repository for the whole class.\n",
        "\n",
        "Unlike OneDrive or iCloud Dive, the separation of local and remote folders means changes are not synced automatically. You can sync your local folder from the remote folder using `git pull` if you do not have any local changes:\n",
        "\n",
        "```\n",
        "git pull\n",
        "```\n",
        "\n",
        "The second exercise in `exercise_1.pdf` gives you the opportunity to create a local git repository and push your changes to GitLab.\n",
        "\n",
        "### Further Reading\n",
        "[Git Basics - Pro Git](https://git-scm.com/book/en/v2/Git-Basics-Getting-a-Git-Repository)  \n",
        "[Visualizing Git Concepts with D3](https://onlywei.github.io/explain-git-with-d3/)  \n",
        "[Git from the Bottom Up](https://jwiegley.github.io/git-from-the-bottom-up/)  \n",
        "\n",
        "## Virtual Environments\n",
        "\n",
        "By default, any Python interpreter installed runs in its own global environment. They aren't specific to a particular project. For example, if you just run `python`, `python3`, or `py` at a new terminal, you're running in that interpreter's global environment. Any packages that you install or uninstall affect the global environment and all programs that you run within it. This means that if Project A requires pandas at version 0.9 while Project B requires pandas at version 1.1, it is impossible to work on both project simultaneously.\n",
        "\n",
        "To prevent such clutter, developers often create a virtual environment for a project. When you install a package into a virtual environment, any packages you install are installed only in that environment. When you then run a Python program within that environment, you know that it's running against only those specific packages.\n",
        "\n",
        "### Mambaforge\n",
        "\n",
        "If you have followed the instructions and have successfully installed the recommended packages, that means you have the best Python package and environment manager on your computer, which is great! Mambaforge is basically [miniconda](https://docs.conda.io/en/latest/miniconda.html) with the following features pre-configured:\n",
        "\n",
        "- [`conda-forge`](https://conda-forge.org/) set as the default (and only) channel to provide more updated and comprehensive coverage of packages.\n",
        "- [`Mamba`](https://github.com/mamba-org/mamba) in place of `conda` to provide better dependency solving and faster package installation. Even though I use `mamba` instead of `conda` throughout this tutorial, the command with `mamba` is the same as `conda`. You can refer to conda's [cheat sheet](https://docs.conda.io/projects/conda/en/latest/_downloads/843d9e0198f2a193a3484886fa28163c/conda-cheatsheet.pdf) and just replace `conda` with `mamba`.\n",
        "\n",
        "It is totally fine if you have no idea what this means. I have used Python for almost 5 years, Mambaforge is hands down my favourite configuration for package and environment management for data science in Python. You may also have heard about pip and virtualenv, which are the mainstream package and environment management tools for Pythonista. The main advantage of conda over pip is that, you can install and update python itself within a conda environment. With pip, you have to install an entirely new virtual environment every time you want to switch to a different python version.\n",
        "\n",
        "### Create Virtual Environments\n",
        "\n",
        "Let's create a virtual environment called `machine-learning`:\n",
        "\n",
        "```\n",
        "mamba create -n machine-learning\n",
        "```\n",
        "\n",
        "You can then activate this environment:\n",
        "\n",
        "```\n",
        "mamba activate machine-learning\n",
        "```\n",
        "\n",
        "Now you can install packages and run code in this specific environment, without worrying about conflicts with your other projects.\n",
        "\n",
        "You can also leave the environment by deactivating:\n",
        "\n",
        "```\n",
        "mamba deactivate\n",
        "```\n",
        "\n",
        "For this course, I have prepared a `environment.yml` file that contains all packages required, you can create an environment defiend by `environment.yml` called `intro-data-analytics` and install all required packages using one command:\n",
        "\n",
        "```\n",
        "mamba env create -f environment.yml\n",
        "mamba activate intro-data-analytics\n",
        "```\n",
        "\n",
        "### Install Python and Packages\n",
        "\n",
        "Most packages you need for this course should already been included in `environment.yml`. Here I talk about installing packages without using `environment.yml` file. Since you are using conda or mamba, it is always preferred to install packages with conda or mamba if they are available. Make sure you are in the right environment, and use the following command:\n",
        "\n",
        "```\n",
        "mamba install python=3.10 pandas jupyterlab\n",
        "```\n",
        "\n",
        "There are always cases when you have to use `pip` because the packages you want are not available on `conda-forge`:\n",
        "\n",
        "```\n",
        "pip install watermark\n",
        "```\n",
        "\n",
        "Now, with everything installed, you are good to go. To verify the installation is working, let's first launch `jupyter lab`:\n",
        "\n",
        "```\n",
        "jupyter lab\n",
        "```\n",
        "\n",
        "### Print Environment Information\n",
        "\n",
        "Printing out your environment information ahead of doing any coding can be very beneficial. For yourself, you can easily identify whether you are in the right environment or have the required packages installed. For others, they can identify some unobvious problems like package version or operating systems before going too deep into the code. We will use an extension called `watermark`. In your jupyter notebook, type the following command:\n",
        "\n",
        "```python\n",
        "%load_ext watermark\n",
        "%watermark --machine --python --packages numpy,pandas,sklearn\n",
        "```\n",
        "\n",
        "### Further Reading\n",
        "\n",
        "[Tutorial of Jupyter Lab](https://calmcode.io/jupyter-lab/time-magic.html)  \n",
        "[A Short Video Tutorial of `watermark`](https://calmcode.io/shorts/watermark.py.html)  \n",
        "[Conda: Myths and Misconceptions](https://jakevdp.github.io/blog/2016/08/25/conda-myths-and-misconceptions/)  \n",
        "[Understanding Conda and Pip](https://www.anaconda.com/blog/understanding-conda-and-pip)  \n",
        "\n",
        "# Nouns and Verbs in Python, and Pandas\n",
        "\n",
        "In an over-simplified fashion, all commands in Python can be understood as a noun or a verb. A noun is a variable. A verb usually refers to some function to do something. Lots of these nouns and verbs are created by other people, so you have to import them:"
      ]
    },
    {
      "cell_type": "code",
      "metadata": {},
      "source": [
        "import someones_sick_project"
      ],
      "execution_count": null,
      "outputs": []
    },
    {
      "cell_type": "markdown",
      "metadata": {},
      "source": [
        "And you can use them this way:"
      ]
    },
    {
      "cell_type": "code",
      "metadata": {},
      "source": [
        "someones_sick_project.say_hello()"
      ],
      "execution_count": null,
      "outputs": []
    },
    {
      "cell_type": "markdown",
      "metadata": {},
      "source": [
        "A noun usually comes with some properties and actions related to them. Let's say you have a barbecue grill named `my_bbq`. You can see that it is initialized with a general type name, `BbqGrill()`, with capital letters in each word."
      ]
    },
    {
      "cell_type": "code",
      "metadata": {},
      "source": [
        "my_bbq = someones_sick_project.BbqGrill(brand=\"Weber\", model=\"E-330\")\n",
        "my_bbq"
      ],
      "execution_count": null,
      "outputs": []
    },
    {
      "cell_type": "markdown",
      "metadata": {},
      "source": [
        "When there are enough user of a package, a convention is born because we are too lazy to type `someones_sick_project` every time. You can abbreviate `someones_sick_project` with the following command and do the same things:"
      ]
    },
    {
      "cell_type": "code",
      "metadata": {},
      "source": [
        "import someones_sick_project as ssp"
      ],
      "execution_count": null,
      "outputs": []
    },
    {
      "cell_type": "code",
      "metadata": {},
      "source": [
        "ssp.say_hello()"
      ],
      "execution_count": null,
      "outputs": []
    },
    {
      "cell_type": "code",
      "metadata": {},
      "source": [
        "my_bbq = ssp.BbqGrill(brand=\"Weber\", model=\"E-330\")\n",
        "my_bbq"
      ],
      "execution_count": null,
      "outputs": []
    },
    {
      "cell_type": "markdown",
      "metadata": {},
      "source": [
        "This specific barbecue grill, `my_bbq`, has some properties, notice that these nouns comes without parenthesis:"
      ]
    },
    {
      "cell_type": "code",
      "metadata": {},
      "source": [
        "my_bbq.brand"
      ],
      "execution_count": null,
      "outputs": []
    },
    {
      "cell_type": "code",
      "metadata": {},
      "source": [
        "my_bbq.model"
      ],
      "execution_count": null,
      "outputs": []
    },
    {
      "cell_type": "markdown",
      "metadata": {},
      "source": [
        "And you can do something with `my_bbq`, notice that the verb comes with parathens and how it interacts with its related noun:"
      ]
    },
    {
      "cell_type": "code",
      "metadata": {},
      "source": [
        "my_bbq.grill()"
      ],
      "execution_count": null,
      "outputs": []
    },
    {
      "cell_type": "markdown",
      "metadata": {},
      "source": [
        "Now, we can finally look at `pandas`. The convention is to import them as `pd`:"
      ]
    },
    {
      "cell_type": "code",
      "metadata": {},
      "source": [
        "import pandas as pd"
      ],
      "execution_count": null,
      "outputs": []
    },
    {
      "cell_type": "markdown",
      "metadata": {},
      "source": [
        "There are mainly two types of things in pandas: `Series` and `DataFrame`. `Series` is a type for 1-dimensional vector, and `DataFrame` is a type for multidimensional matrix consisting of many series as its column. We can initialize a series and a dataframe in the following way:"
      ]
    },
    {
      "cell_type": "code",
      "metadata": {},
      "source": [
        "a_series = pd.Series([1, 2, 3])\n",
        "a_series"
      ],
      "execution_count": null,
      "outputs": []
    },
    {
      "cell_type": "code",
      "metadata": {},
      "source": [
        "a_dataframe = pd.DataFrame({\"col_1\": [1, 2, 3], \"col_2\": [4.1, 5.4, 6.1]})\n",
        "a_dataframe"
      ],
      "execution_count": null,
      "outputs": []
    },
    {
      "cell_type": "markdown",
      "metadata": {},
      "source": [
        "We can then inspect their properties:"
      ]
    },
    {
      "cell_type": "code",
      "metadata": {},
      "source": [
        "a_series.dtypes"
      ],
      "execution_count": null,
      "outputs": []
    },
    {
      "cell_type": "code",
      "metadata": {},
      "source": [
        "a_series.index"
      ],
      "execution_count": null,
      "outputs": []
    },
    {
      "cell_type": "code",
      "metadata": {},
      "source": [
        "a_dataframe.dtypes"
      ],
      "execution_count": null,
      "outputs": []
    },
    {
      "cell_type": "code",
      "metadata": {},
      "source": [
        "a_dataframe.index"
      ],
      "execution_count": null,
      "outputs": []
    },
    {
      "cell_type": "markdown",
      "metadata": {},
      "source": [
        "And do some actions related to `a_series` and `a_dataframe`:"
      ]
    },
    {
      "cell_type": "code",
      "metadata": {},
      "source": [
        "a_series.info()"
      ],
      "execution_count": null,
      "outputs": []
    },
    {
      "cell_type": "code",
      "metadata": {},
      "source": [
        "a_series.describe()"
      ],
      "execution_count": null,
      "outputs": []
    },
    {
      "cell_type": "code",
      "metadata": {},
      "source": [
        "a_dataframe.info()"
      ],
      "execution_count": null,
      "outputs": []
    },
    {
      "cell_type": "code",
      "metadata": {},
      "source": [
        "a_dataframe.describe()"
      ],
      "execution_count": null,
      "outputs": []
    },
    {
      "cell_type": "code",
      "metadata": {},
      "source": [
        "a_dataframe.head(1)"
      ],
      "execution_count": null,
      "outputs": []
    },
    {
      "cell_type": "markdown",
      "metadata": {},
      "source": [
        "Now, when you read pandas documentation, you should not be too confused now. Let's say, you are looking for [`pandas.read_csv()`](https://pandas.pydata.org/docs/reference/api/pandas.read_csv.html#pandas-read-csv):\n",
        "\n",
        "![Documentation for `pandas.read_csv()`](read_csv.png)\n",
        "\n",
        "The function is directly under `pandas`, which means it is something you can directly use following `pd.`:"
      ]
    },
    {
      "cell_type": "code",
      "metadata": {},
      "source": [
        "countries = pd.read_csv(\"https://raw.githubusercontent.com/cs109/2014_data/master/countries.csv\")\n",
        "countries.head(5)"
      ],
      "execution_count": null,
      "outputs": []
    },
    {
      "cell_type": "markdown",
      "metadata": {},
      "source": [
        "Here is the documentation for a very similar function, [`pandas.DataFrame.to_csv()`](https://pandas.pydata.org/docs/reference/api/pandas.DataFrame.to_csv.html):\n",
        "\n",
        "![Documentation for `pandas.DataFrame.to_csv()`](to_csv.png)\n",
        "\n",
        "Notice anything different? This function applies to `DataFrame`, which means that you can only use it for some dataframe that you created:"
      ]
    },
    {
      "cell_type": "code",
      "metadata": {},
      "source": [
        "# This doesn't work\n",
        "# pd.to_csv(\"https://raw.githubusercontent.com/cs109/2014_data/master/countries.csv\")\n",
        "# This works\n",
        "countries.to_csv(\"countries.csv\")"
      ],
      "execution_count": null,
      "outputs": []
    },
    {
      "cell_type": "markdown",
      "metadata": {},
      "source": [
        "You should have the mental model to read [10 minutes to pandas](https://pandas.pydata.org/docs/user_guide/10min.html) and work on your exercise now.\n",
        "\n",
        "### Further Reading\n",
        "\n",
        "[10 minutes to pandas](https://pandas.pydata.org/docs/user_guide/10min.html)  \n",
        "[Effective Pandas](https://www.youtube.com/watch?v=zgbUk90aQ6A)  \n",
        "[Python for Data Analysis](https://wesmckinney.com/book/)  \n",
        "[Object-Oriented Programming - Composing Programs](http://composingprograms.com/pages/25-object-oriented-programming.html)  \n",
        "[Data Model - Python Documentation](https://docs.python.org/3/reference/datamodel.html)"
      ]
    }
  ],
  "metadata": {
    "kernelspec": {
      "name": "python3",
      "language": "python",
      "display_name": "Python 3 (ipykernel)"
    }
  },
  "nbformat": 4,
  "nbformat_minor": 4
}