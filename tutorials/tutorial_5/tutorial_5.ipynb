{
  "cells": [
    {
      "cell_type": "raw",
      "metadata": {},
      "source": [
        "---\n",
        "title: 'Tutorial 5: Network Analysis'\n",
        "author: Jiawei Li\n",
        "execute:\n",
        "  warning: false\n",
        "---"
      ]
    },
    {
      "cell_type": "markdown",
      "metadata": {},
      "source": [
        "# Network\n",
        "\n",
        "A lot of data can be represented by a network. For example, [train isochrones](https://www.chronotrains.com/), [protein structures](https://www.deepmind.com/research/highlighted-research/alphafold), social network, financial transactions, internet, etc. These information is hard to embed in tabular formats and to be learned by traditional machine learning algorithms you have been taught. Some recent developments using neural networks have been made and are quite exciting. Today we start from the very simple networks and learn how to process them using NetworkX in Python.\n",
        "\n",
        "# NetworkX\n",
        "\n",
        "We first import the packages."
      ]
    },
    {
      "cell_type": "code",
      "metadata": {},
      "source": [
        "import networkx as nx\n",
        "import matplotlib.pyplot as plt\n",
        "import pandas as pd\n",
        "\n",
        "%config InlineBackend.figure_format = \"retina\""
      ],
      "execution_count": null,
      "outputs": []
    },
    {
      "cell_type": "markdown",
      "metadata": {},
      "source": [
        "There are several ways to create a graph, add nodes and edges."
      ]
    },
    {
      "cell_type": "code",
      "metadata": {},
      "source": [
        "G = nx.Graph()\n",
        "G.add_node(1)\n",
        "G.add_node(2)\n",
        "G.add_node(3)"
      ],
      "execution_count": null,
      "outputs": []
    },
    {
      "cell_type": "code",
      "metadata": {},
      "source": [
        "G = nx.Graph()\n",
        "G.add_nodes_from([1, 2, 3])"
      ],
      "execution_count": null,
      "outputs": []
    },
    {
      "cell_type": "code",
      "metadata": {},
      "source": [
        "G = nx.Graph()\n",
        "G.add_nodes_from([1, 2, 3])\n",
        "G.add_edge(1, 2)\n",
        "G.add_edge(2, 3)\n",
        "G.add_edge(1, 3)"
      ],
      "execution_count": null,
      "outputs": []
    },
    {
      "cell_type": "code",
      "metadata": {},
      "source": [
        "G = nx.Graph()\n",
        "G.add_nodes_from([1, 2, 3])\n",
        "G.add_edges_from([(1, 2), (2, 3), (1, 3)])"
      ],
      "execution_count": null,
      "outputs": []
    },
    {
      "cell_type": "markdown",
      "metadata": {},
      "source": [
        "We can also insepect the neighbors."
      ]
    },
    {
      "cell_type": "code",
      "metadata": {},
      "source": [
        "list(nx.neighbors(G, 2))"
      ],
      "execution_count": null,
      "outputs": []
    },
    {
      "cell_type": "markdown",
      "metadata": {},
      "source": [
        "And draw a graph."
      ]
    },
    {
      "cell_type": "code",
      "metadata": {},
      "source": [
        "nx.draw(G, with_labels=True)"
      ],
      "execution_count": null,
      "outputs": []
    },
    {
      "cell_type": "markdown",
      "metadata": {},
      "source": [
        "# Games of Centralities\n",
        "\n",
        "Now we have some basic understanding of how NetworkX works. We can create a network from Games of Thrones. The data is open sourced at [GitHub](https://github.com/mathbeveridge/gameofthrones). These networks were created by parsing [fan-generated scripts](https://genius.com/artists/Game-of-thrones). Pairs of characters are connected by undirected edges weighted by the number of interactions. There are five interaction types. Character A and Character B are connected whenever:\n",
        "\n",
        "- Character A speaks directly after Character B\n",
        "- Character A speaks about Character B\n",
        "- Character C speaks about Character A and Character B\n",
        "- Character A and Character B are mentioned in the same stage direction\n",
        "- Character A and Character B appear in a scene together\n",
        "\n",
        "We first read the `.csv` file from the github repository."
      ]
    },
    {
      "cell_type": "code",
      "metadata": {},
      "source": [
        "s1 = pd.read_csv(\"https://github.com/mathbeveridge/gameofthrones/raw/master/data/got-s1-edges.csv\")"
      ],
      "execution_count": null,
      "outputs": []
    },
    {
      "cell_type": "markdown",
      "metadata": {},
      "source": [
        "And inspect the data."
      ]
    },
    {
      "cell_type": "code",
      "metadata": {},
      "source": [
        "s1.head(5)"
      ],
      "execution_count": null,
      "outputs": []
    },
    {
      "cell_type": "markdown",
      "metadata": {},
      "source": [
        "Now, we can create a graph using `from_pandas_edgelist()` and calculate the centrality, which indicates the importance of any given node in a network, using `degree_centrality()`."
      ]
    },
    {
      "cell_type": "code",
      "metadata": {},
      "source": [
        "G = nx.from_pandas_edgelist(s1, source=\"Source\", target=\"Target\", edge_attr=\"Weight\")\n",
        "centrality = nx.degree_centrality(G)\n",
        "pd.Series(centrality).sort_values(ascending=False).head(5)"
      ],
      "execution_count": null,
      "outputs": []
    },
    {
      "cell_type": "markdown",
      "metadata": {},
      "source": [
        "We can abstract it into a function to calculate the centrality for each season."
      ]
    },
    {
      "cell_type": "code",
      "metadata": {},
      "source": [
        "def calculate_centrality(season):\n",
        "    \"\"\"\n",
        "    Return 5 characters with highest centrality.\n",
        "    \"\"\"\n",
        "    s = pd.read_csv(f\"https://github.com/mathbeveridge/gameofthrones/raw/master/data/got-s{season}-edges.csv\")\n",
        "    G = nx.from_pandas_edgelist(s, source=\"Source\", target=\"Target\", edge_attr=\"Weight\")\n",
        "    centrality = nx.degree_centrality(G)\n",
        "    return pd.Series(centrality).sort_values(ascending=False).head(5)"
      ],
      "execution_count": null,
      "outputs": []
    },
    {
      "cell_type": "code",
      "metadata": {},
      "source": [
        "calculate_centrality(1)"
      ],
      "execution_count": null,
      "outputs": []
    },
    {
      "cell_type": "code",
      "metadata": {},
      "source": [
        "calculate_centrality(2)"
      ],
      "execution_count": null,
      "outputs": []
    },
    {
      "cell_type": "code",
      "metadata": {},
      "source": [
        "calculate_centrality(3)"
      ],
      "execution_count": null,
      "outputs": []
    },
    {
      "cell_type": "code",
      "metadata": {},
      "source": [
        "calculate_centrality(4)"
      ],
      "execution_count": null,
      "outputs": []
    },
    {
      "cell_type": "markdown",
      "metadata": {},
      "source": [
        "We can also calculate the shortest path."
      ]
    },
    {
      "cell_type": "code",
      "metadata": {},
      "source": [
        "nx.shortest_path(G, source=\"THEON\", target=\"DAENERYS\", weight=None)"
      ],
      "execution_count": null,
      "outputs": []
    },
    {
      "cell_type": "markdown",
      "metadata": {},
      "source": [
        "For Dijkstra's shortest path algorithm on the exercise, you can refer to the tutorial on [Brillant](https://brilliant.org/wiki/dijkstras-short-path-finder/). We have 3 variables:\n",
        "\n",
        "- `dist`: an array of distances from the source node ss to each node in the graph.\n",
        "- `Q`: a queue of all nodes in the graph. At the end of the algorithm's progress, Q will be empty.\n",
        "- `S`: an empty set, to indicate which nodes the algorithm has visited. At the end of the algorithm's run, S will contain all the nodes of the graph.\n",
        "\n",
        "The algorithm can be written as:\n",
        "\n",
        "```\n",
        "function Dijkstra(Graph, source):\n",
        "       dist[source]  := 0                     // Distance from source to source is set to 0\n",
        "       for each vertex v in Graph:            // Initializations\n",
        "           if v ≠ source\n",
        "               dist[v]  := infinity           // Unknown distance function from source to each node set to infinity\n",
        "           add v to Q                         // All nodes initially in Q\n",
        "\n",
        "      while Q is not empty:                  // The main loop\n",
        "          v := vertex in Q with min dist[v]  // In the first run-through, this vertex is the source node\n",
        "          remove v from Q \n",
        "\n",
        "          for each neighbor u of v:           // where neighbor u has not yet been removed from Q.\n",
        "              alt := dist[v] + length(v, u)\n",
        "              if alt < dist[u]:               // A shorter path to u has been found\n",
        "                  dist[u]  := alt            // Update distance of u \n",
        "\n",
        "      return dist[]\n",
        "  end function\n",
        "```\n",
        "# Further Reading\n",
        "\n",
        "[Chronotrains](https://www.chronotrains.com/)  \n",
        "[Direkt Bahn Guru](https://direkt.bahn.guru/)  \n",
        "[AlphaFold](https://www.deepmind.com/research/highlighted-research/alphafold)  \n",
        "[CS224W: Machine Learning with Graphs](http://web.stanford.edu/class/cs224w/)  "
      ]
    }
  ],
  "metadata": {
    "kernelspec": {
      "name": "python3",
      "language": "python",
      "display_name": "Python 3 (ipykernel)"
    }
  },
  "nbformat": 4,
  "nbformat_minor": 4
}