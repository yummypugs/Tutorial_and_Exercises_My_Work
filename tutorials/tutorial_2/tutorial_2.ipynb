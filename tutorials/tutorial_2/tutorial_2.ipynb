{
  "cells": [
    {
      "cell_type": "raw",
      "metadata": {},
      "source": [
        "---\n",
        "title: 'Tutorial 2: Dimensionality Reduction'\n",
        "author: Jiawei Li\n",
        "execute:\n",
        "  warning: false\n",
        "---"
      ]
    },
    {
      "cell_type": "markdown",
      "metadata": {},
      "source": [
        "# Playlist Continuation\n",
        "\n",
        "You may have used the automatic playlist continuation feature on Spotify. As a matter of fact, Spotify even hosts a [challenge](https://www.aicrowd.com/challenges/spotify-million-playlist-dataset-challenge) to develop a system for the task of automatic playlist continuation, with a dataset of 1 million playlists consist of over 2 million unique tracks. Let us think of a simplified way to solve this challenge:\n",
        "\n",
        "1. Each playlist is a vector of 2 million unique tracks;\n",
        "2. We can find the most similar playlist to what the user is playing;\n",
        "3. Suggest the song which the user has not listened to.\n",
        "\n",
        "It may sound easy, but finding a similar vector with 2 million dimensions is almost impossible. We need a way to reduce the dimensionality of these vectors. Random projection is one simple way. For a $m \\times n$ matrix $A$, it is a projection from $\\mathbf{R}_n \\to \\mathbf{R}_m$ when applied to $n$-dimension $x$:\n",
        "\n",
        "$$\n",
        "Ax = b\n",
        "$$\n",
        "\n",
        "Johnson-Lindenstraus theorem simply proves that there is a theoretical guarantee that the errors will be smaller than some number for any random projection $\\mathbf{R}_n \\to \\mathbf{R}_m$. If you are fine with this number of errors, you can go ahead with this projection.\n",
        "\n",
        "Let us say, we are fine to project the playlist vector to 2 thousand dimensions. Then we need a random matrix which has a shape $2\\ \\text{thousand} \\times 2\\ \\text{million}$. This is still a fairly difficult problem, many solutions have been proposed. For this tutorial, we do a simple version of projecting $\\mathbf{R}_{200} \\to \\mathbf{R}_{10}$ using Normal Distribution. We first import `numpy`."
      ]
    },
    {
      "cell_type": "code",
      "metadata": {},
      "source": [
        "import numpy as np"
      ],
      "execution_count": null,
      "outputs": []
    },
    {
      "cell_type": "markdown",
      "metadata": {},
      "source": [
        "We have a playlist vector $x$."
      ]
    },
    {
      "cell_type": "code",
      "metadata": {},
      "source": [
        "x = np.random.randint(0, 2, size=200)\n",
        "print(f\"x:\\n{x}\")"
      ],
      "execution_count": null,
      "outputs": []
    },
    {
      "cell_type": "markdown",
      "metadata": {},
      "source": [
        "And a random matrix of Normal Distribution with mean of 0 and standard deviation of 1."
      ]
    },
    {
      "cell_type": "code",
      "metadata": {},
      "source": [
        "A = np.random.normal(0, 1, size=(10, 200))\n",
        "print(f\"A:\\n{A}\")"
      ],
      "execution_count": null,
      "outputs": []
    },
    {
      "cell_type": "markdown",
      "metadata": {},
      "source": [
        "Multiply and done."
      ]
    },
    {
      "cell_type": "code",
      "metadata": {},
      "source": [
        "b = A@x\n",
        "print(f\"b:\\n{b}\")"
      ],
      "execution_count": null,
      "outputs": []
    },
    {
      "cell_type": "markdown",
      "metadata": {},
      "source": [
        "On the exercise, you are asked to create a random matrix with specific probabilities. You can refer to [`numpy.random.choice()`](https://numpy.org/doc/stable/reference/random/generated/numpy.random.choice.html).\n",
        "\n",
        "## Further Reading\n",
        "\n",
        "[Python Data Science Handbook](https://jakevdp.github.io/PythonDataScienceHandbook/)  \n",
        "[Nearest Neighbors in Python with Annoy](https://calmcode.io/annoy/intro.html)  \n",
        "[Database-friendly random projections: Johnson-Lindenstrauss with binary coins](https://www.sciencedirect.com/science/article/pii/S0022000003000254)  \n",
        "[CS168 Lecture 4: Dimensionality Reduction](https://web.stanford.edu/class/cs168/l/l4.pdf)\n",
        "\n",
        "# Mushroom Hunting\n",
        "\n",
        "Now, let us be mushroom hunters who want to understand the underlying attributes of mushrooms. There is a great dataset prepared by researchers at University of Marburg. The research is published in [Nature Scientific Reports](https://www.nature.com/articles/s41598-021-87602-3).\n",
        "\n",
        "Now, we import the libraries and read the mushroom dataset."
      ]
    },
    {
      "cell_type": "code",
      "metadata": {},
      "source": [
        "import altair as alt\n",
        "import pandas as pd\n",
        "import numpy as np"
      ],
      "execution_count": null,
      "outputs": []
    },
    {
      "cell_type": "code",
      "metadata": {},
      "source": [
        "def calculate_mean(x):\n",
        "    \"\"\"\n",
        "    Transform a string of \"[lower, higher]\" into its mean.\n",
        "    \"\"\"\n",
        "    from ast import literal_eval\n",
        "    \n",
        "    try:\n",
        "        return int(x)\n",
        "    except ValueError:\n",
        "        x = literal_eval(x)\n",
        "        lower = int(x[0])\n",
        "        higher = int(x[-1])\n",
        "        mean = (lower + higher) / 2\n",
        "        return mean"
      ],
      "execution_count": null,
      "outputs": []
    },
    {
      "cell_type": "markdown",
      "metadata": {},
      "source": [
        "We first investigate the size of the mushrooms. In particular, the stem height and stem width."
      ]
    },
    {
      "cell_type": "code",
      "metadata": {},
      "source": [
        "mushroom = pd.read_csv(\"https://mushroom.mathematik.uni-marburg.de/files/PrimaryData/primary_data_edited.csv\", sep=\";\")\n",
        "mushroom[\"stem-height\"] = mushroom[\"stem-height\"].apply(calculate_mean)\n",
        "mushroom[\"stem-width\"] = mushroom[\"stem-width\"].apply(calculate_mean)\n",
        "mushroom.loc[:5, [\"stem-height\", \"stem-width\"]]"
      ],
      "execution_count": null,
      "outputs": []
    },
    {
      "cell_type": "markdown",
      "metadata": {},
      "source": [
        "These two attributes are correlated. Tall and wide stems mean that the mushrooms is chunky, and short and thin stems means that the mushrooms is probably tiny. These two dimensions can be reduced to one, which means that we can apply Principal Component Analysis (PCA)."
      ]
    },
    {
      "cell_type": "code",
      "metadata": {},
      "source": [
        "alt.Chart(mushroom).mark_circle().encode(\n",
        "    x=\"stem-height\",\n",
        "    y=\"stem-width\",\n",
        "    tooltip=[\"stem-height\", \"stem-width\"],\n",
        ")"
      ],
      "execution_count": null,
      "outputs": []
    },
    {
      "cell_type": "markdown",
      "metadata": {},
      "source": [
        "Let us start applying PCA. We first centre the data."
      ]
    },
    {
      "cell_type": "code",
      "metadata": {},
      "source": [
        "# Select columns of \"stem-height\" and \"stem-width\"\n",
        "mushroom = mushroom.loc[:, [\"stem-height\", \"stem-width\"]]\n",
        "# Center the data so each feature has zero mean\n",
        "mushroom = mushroom - mushroom.mean()\n",
        "mushroom_chart = alt.Chart(mushroom).mark_circle().encode(\n",
        "    x=\"stem-height\",\n",
        "    y=\"stem-width\",\n",
        "    tooltip=[\"stem-height\", \"stem-width\"],\n",
        ")\n",
        "mushroom_chart"
      ],
      "execution_count": null,
      "outputs": []
    },
    {
      "cell_type": "markdown",
      "metadata": {},
      "source": [
        "Then we reconstruct the data in row format, this is a purely arbitrary choice that follows most mathematical literature. If you know Linear Algebra, you know how to apply the same procedure on column format data."
      ]
    },
    {
      "cell_type": "code",
      "metadata": {},
      "source": [
        "# Consturct data in row format\n",
        "D = mushroom.to_numpy().transpose()\n",
        "# Compute covariance matrix\n",
        "S = np.cov(D)\n",
        "print(f\"S:\\n{S}\")"
      ],
      "execution_count": null,
      "outputs": []
    },
    {
      "cell_type": "code",
      "metadata": {},
      "source": [
        "# This is equivalent to D@D.T / dof\n",
        "# Note that we divide the covariance by D.shape[-1] - 1 because\n",
        "# we have D.shape[-1] data points in total and need minus 1 degree of freedom\n",
        "S = D @ D.T / (D.shape[-1] - 1)\n",
        "print(f\"S:\\n{S}\")"
      ],
      "execution_count": null,
      "outputs": []
    },
    {
      "cell_type": "code",
      "metadata": {},
      "source": [
        "# Compute eigenvalue and eigenvector\n",
        "# Note that we use np.linalg.eigh() because S is\n",
        "# a symmetric matix, np.linalg.eigh() gives better\n",
        "# performance than np.linalg.eig() \n",
        "l, v = np.linalg.eigh(S)\n",
        "print(f\"l:\\n{l},\\nv:\\n{v}\")"
      ],
      "execution_count": null,
      "outputs": []
    },
    {
      "cell_type": "code",
      "metadata": {},
      "source": [
        "# We sort the eigenvectors by their eigenvalues\n",
        "# the higher the eigenvalue, the higher importance it associates\n",
        "idx = np.argsort(l)[::-1]\n",
        "l = l[idx]\n",
        "v = v[:,idx]\n",
        "print(f\"v:\\n{v}\")"
      ],
      "execution_count": null,
      "outputs": []
    },
    {
      "cell_type": "markdown",
      "metadata": {},
      "source": [
        "With eigenvectors, we can plot the projection line on our graph."
      ]
    },
    {
      "cell_type": "code",
      "metadata": {},
      "source": [
        "eigenvector = pd.DataFrame(np.vstack([v[:, 0]*70, v[:, 0]*-30]), columns=[\"stem-height\", \"stem-width\"])\n",
        "\n",
        "eigenvector_chart = alt.Chart(eigenvector).mark_line(color=\"grey\", opacity=0.8).encode(\n",
        "    x=\"stem-height\",\n",
        "    y=\"stem-width\",\n",
        "    tooltip=[\"stem-height\", \"stem-width\"],\n",
        ")\n",
        "\n",
        "eigenvector_chart + mushroom_chart"
      ],
      "execution_count": null,
      "outputs": []
    },
    {
      "cell_type": "markdown",
      "metadata": {},
      "source": [
        "And do the projections."
      ]
    },
    {
      "cell_type": "code",
      "metadata": {},
      "source": [
        "# We can then use sorted eigenvectors to transform the orginal data\n",
        "# For example, 2D -> 1D\n",
        "mushroom[\"prjection\"] = (v.T[:1] @ D).reshape(-1)\n",
        "mushroom.head(5)"
      ],
      "execution_count": null,
      "outputs": []
    },
    {
      "cell_type": "markdown",
      "metadata": {},
      "source": [
        "The process of covariance matrix and eigenvalue decomposition can be reduced to only using SVD decomposition on centred data. This gives better numerical stability because we don't have to calculate D @ D.T which could cause errors with floating numbers."
      ]
    },
    {
      "cell_type": "code",
      "metadata": {},
      "source": [
        "u, s, vh = np.linalg.svd(D)\n",
        "# There is even no need to sort\n",
        "# 2D -> 1D\n",
        "mushroom[\"prjection_svd\"] = (u.T[:1] @ D).reshape(-1)\n",
        "mushroom.head(5)"
      ],
      "execution_count": null,
      "outputs": []
    },
    {
      "cell_type": "markdown",
      "metadata": {},
      "source": [
        "I demonstrated a simple way to project 2D -> 1D. In practice, you normally do PCA on much higher dimensions. For example, here we can see that the cap diameter is correlated with stem sizes. You can try to find a projection that transform 3D -> 1D."
      ]
    },
    {
      "cell_type": "code",
      "metadata": {},
      "source": [
        "mushroom = pd.read_csv(\"https://mushroom.mathematik.uni-marburg.de/files/PrimaryData/primary_data_edited.csv\", sep=\";\")\n",
        "mushroom[\"cap-diameter\"] = mushroom[\"cap-diameter\"].apply(calculate_mean)\n",
        "mushroom[\"stem-height\"] = mushroom[\"stem-height\"].apply(calculate_mean)\n",
        "mushroom[\"stem-width\"] = mushroom[\"stem-width\"].apply(calculate_mean)\n",
        "alt.Chart(mushroom).mark_circle().encode(\n",
        "    x=\"stem-height\",\n",
        "    y=\"stem-width\",\n",
        "    size=\"cap-diameter\",\n",
        "    tooltip=[\"stem-height\", \"stem-width\", \"cap-diameter\"],\n",
        ")"
      ],
      "execution_count": null,
      "outputs": []
    },
    {
      "cell_type": "markdown",
      "metadata": {},
      "source": [
        "## Further Reading\n",
        "\n",
        "[Making sense of principal component analysis, eigenvectors & eigenvalues](https://stats.stackexchange.com/questions/2691/making-sense-of-principal-component-analysis-eigenvectors-eigenvalues)  \n",
        "[Eigenfaces, for Facial Recognition](https://jeremykun.com/2011/07/27/eigenfaces/)  \n",
        "[Manifold learning - Scikit-Learn](https://scikit-learn.org/stable/modules/manifold.html)  \n",
        "[Visualizing Data Using t-SNE](https://www.youtube.com/watch?v=RJVL80Gg3lA)  \n",
        "[CS168 Lecture 7: Understanding and Using Principal Component Analysis (PCA)](https://web.stanford.edu/class/cs168/l/l7.pdf)  \n",
        "[CS168 Lecture 8: How PCA Works](https://web.stanford.edu/class/cs168/l/l8.pdf)"
      ]
    }
  ],
  "metadata": {
    "kernelspec": {
      "name": "python3",
      "language": "python",
      "display_name": "Python 3 (ipykernel)"
    }
  },
  "nbformat": 4,
  "nbformat_minor": 4
}