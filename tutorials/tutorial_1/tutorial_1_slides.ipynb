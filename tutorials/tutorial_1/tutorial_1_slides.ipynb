{
 "cells": [
  {
   "cell_type": "markdown",
   "id": "aecba4a2",
   "metadata": {
    "slideshow": {
     "slide_type": "slide"
    }
   },
   "source": [
    "# Tutorial 1: Setup and Introduction to Python and Pandas\n",
    "---\n",
    "\n",
    "Jiawei Li"
   ]
  },
  {
   "cell_type": "markdown",
   "id": "966726ee",
   "metadata": {
    "slideshow": {
     "slide_type": "slide"
    }
   },
   "source": [
    "# Introduction\n",
    "\n",
    "Some background about me:\n",
    "\n",
    "-   Bachelor’s degree in Economics, didn’t believe in it, moved to data\n",
    "    science.\n",
    "-   Generalist or jack of all trades for all sorts of things related to\n",
    "    data science, e.g. programming, machine learning, data engineering,\n",
    "    data communication.\n",
    "-   Too academic for industry and too industrial for academia.\n",
    "-   Research interests: AI in Economics.\n",
    "-   Professional experiences: Mostly in Finance, from stock exchange to\n",
    "    high frequency market making, from DAX corporations to startups.\n",
    "\n",
    "Tutorials help you gain principles and intuition that help you learn on your own."
   ]
  },
  {
   "cell_type": "markdown",
   "id": "d038733c",
   "metadata": {
    "slideshow": {
     "slide_type": "slide"
    }
   },
   "source": [
    "# Setup"
   ]
  },
  {
   "cell_type": "markdown",
   "id": "c06349bf",
   "metadata": {
    "slideshow": {
     "slide_type": "slide"
    }
   },
   "source": [
    "## Package Managers\n",
    "\n",
    "A package manager is a software tool that automates the process of\n",
    "installing, upgrading, and removing computer programs (incl. software,\n",
    "applications, packages). \n",
    "\n",
    "I recommend using\n",
    "[Winget](https://docs.microsoft.com/en-us/windows/package-manager/winget/)\n",
    "for Windows, [Homebrew](https://brew.sh/) for macOS. For Linux and\n",
    "Windows Subsystem for Linux, the choice of package managers usually\n",
    "depends on which distribution you are using."
   ]
  },
  {
   "cell_type": "markdown",
   "id": "06e18285",
   "metadata": {
    "slideshow": {
     "slide_type": "slide"
    }
   },
   "source": [
    "## Git\n",
    "\n",
    "Git is a version control software. Forget about\n",
    "`presentation_version_final.pptx`\n",
    "`presentation_version_final_final.pptx` on your shared folders that\n",
    "nobody can figure out which file to use. Git gives you the superpower to\n",
    "track code changes and sync your work with your teammates. We start from\n",
    "the very basics, which is the file system navigation and the `clone`\n",
    "command."
   ]
  },
  {
   "cell_type": "markdown",
   "id": "64f5cb69",
   "metadata": {
    "slideshow": {
     "slide_type": "slide"
    }
   },
   "source": [
    "## Virtual Environments\n",
    "\n",
    "When you install a package into a virtual environment,\n",
    "any packages you install are installed only in that environment. When\n",
    "you then run a Python program within that environment, you know that\n",
    "it’s running against only those specific packages."
   ]
  },
  {
   "cell_type": "markdown",
   "id": "26457a1e",
   "metadata": {
    "slideshow": {
     "slide_type": "slide"
    }
   },
   "source": [
    "## Mambaforge\n",
    "\n",
    "Mambaforge is\n",
    "basically [miniconda](https://docs.conda.io/en/latest/miniconda.html)\n",
    "with the following features pre-configured:\n",
    "\n",
    "-   [`conda-forge`](https://conda-forge.org/) set as the default (and\n",
    "    only) channel to provide more updated and comprehensive coverage of\n",
    "    packages.\n",
    "-   [`Mamba`](https://github.com/mamba-org/mamba) in place of `conda` to\n",
    "    provide better dependency solving and faster package installation.\n",
    "    Even though I use `mamba` instead of `conda` throughout this\n",
    "    tutorial, the command with `mamba` is the same as `conda`. You can\n",
    "    refer to conda’s [cheat\n",
    "    sheet](https://docs.conda.io/projects/conda/en/latest/_downloads/843d9e0198f2a193a3484886fa28163c/conda-cheatsheet.pdf)\n",
    "    and just replace `conda` with `mamba`."
   ]
  },
  {
   "cell_type": "code",
   "execution_count": 2,
   "id": "ddd689ba",
   "metadata": {
    "slideshow": {
     "slide_type": "slide"
    }
   },
   "outputs": [
    {
     "name": "stdout",
     "output_type": "stream",
     "text": [
      "The watermark extension is already loaded. To reload it, use:\n",
      "  %reload_ext watermark\n",
      "Python implementation: CPython\n",
      "Python version       : 3.10.6\n",
      "IPython version      : 8.5.0\n",
      "\n",
      "numpy  : 1.23.3\n",
      "pandas : 1.4.4\n",
      "sklearn: 1.1.2\n",
      "\n",
      "Compiler    : Clang 13.0.1 \n",
      "OS          : Darwin\n",
      "Release     : 21.6.0\n",
      "Machine     : arm64\n",
      "Processor   : arm\n",
      "CPU cores   : 10\n",
      "Architecture: 64bit\n",
      "\n"
     ]
    }
   ],
   "source": [
    "%load_ext watermark\n",
    "%watermark --machine --python --packages numpy,pandas,sklearn"
   ]
  },
  {
   "cell_type": "markdown",
   "id": "12957f39",
   "metadata": {
    "slideshow": {
     "slide_type": "slide"
    }
   },
   "source": [
    "\n",
    "# Nouns and Verbs in Python\n",
    "\n",
    "In an over-simplified fashion, all commands in Python can be understood\n",
    "as a noun or a verb. A verb usually refers to some function to do\n",
    "something, with lower case letters and underscores. Lots of these nouns\n",
    "and verbs are created by other people, so you have to import them:"
   ]
  },
  {
   "cell_type": "code",
   "execution_count": 3,
   "id": "76b102cc-7169-49b7-b962-7167af132d40",
   "metadata": {
    "slideshow": {
     "slide_type": "slide"
    }
   },
   "outputs": [],
   "source": [
    "import someones_sick_project"
   ]
  },
  {
   "cell_type": "code",
   "execution_count": 4,
   "id": "ed7fdd10-1d1c-4df8-b60d-286c9bb752ec",
   "metadata": {
    "slideshow": {
     "slide_type": "slide"
    }
   },
   "outputs": [
    {
     "name": "stdout",
     "output_type": "stream",
     "text": [
      "Hello World!\n"
     ]
    }
   ],
   "source": [
    "someones_sick_project.say_hello()"
   ]
  },
  {
   "cell_type": "code",
   "execution_count": 5,
   "id": "bfe74291-755c-4ca5-ae30-6fef9a088025",
   "metadata": {
    "slideshow": {
     "slide_type": "slide"
    }
   },
   "outputs": [
    {
     "data": {
      "text/plain": [
       "<someones_sick_project.BbqGrill at 0x145f9fca0>"
      ]
     },
     "execution_count": 5,
     "metadata": {},
     "output_type": "execute_result"
    }
   ],
   "source": [
    "my_bbq = someones_sick_project.BbqGrill(brand=\"Weber\", model=\"E-330\")\n",
    "my_bbq"
   ]
  },
  {
   "cell_type": "code",
   "execution_count": 6,
   "id": "d91ef81a-ec8b-411b-9175-6b5c8173c7e2",
   "metadata": {
    "slideshow": {
     "slide_type": "slide"
    }
   },
   "outputs": [],
   "source": [
    "import someones_sick_project as ssp"
   ]
  },
  {
   "cell_type": "code",
   "execution_count": 7,
   "id": "d24f3c24-1800-4be2-a294-6492c58733f7",
   "metadata": {
    "slideshow": {
     "slide_type": "slide"
    }
   },
   "outputs": [
    {
     "name": "stdout",
     "output_type": "stream",
     "text": [
      "Hello World!\n"
     ]
    }
   ],
   "source": [
    "ssp.say_hello()"
   ]
  },
  {
   "cell_type": "code",
   "execution_count": 8,
   "id": "58c78734-969f-48d4-9cf0-82e6fc9a6638",
   "metadata": {
    "slideshow": {
     "slide_type": "slide"
    }
   },
   "outputs": [
    {
     "data": {
      "text/plain": [
       "<someones_sick_project.BbqGrill at 0x145fe46a0>"
      ]
     },
     "execution_count": 8,
     "metadata": {},
     "output_type": "execute_result"
    }
   ],
   "source": [
    "my_bbq = ssp.BbqGrill(brand=\"Weber\", model=\"E-330\")\n",
    "my_bbq"
   ]
  },
  {
   "cell_type": "code",
   "execution_count": 9,
   "id": "90eb2438-1ee2-4092-8b9a-12195c20ffb1",
   "metadata": {
    "slideshow": {
     "slide_type": "slide"
    }
   },
   "outputs": [
    {
     "data": {
      "text/plain": [
       "'Weber'"
      ]
     },
     "execution_count": 9,
     "metadata": {},
     "output_type": "execute_result"
    }
   ],
   "source": [
    "my_bbq.brand"
   ]
  },
  {
   "cell_type": "code",
   "execution_count": 10,
   "id": "4b65cc61-38ef-4f29-b050-2bf462d4b5a4",
   "metadata": {
    "slideshow": {
     "slide_type": "slide"
    }
   },
   "outputs": [
    {
     "data": {
      "text/plain": [
       "'E-330'"
      ]
     },
     "execution_count": 10,
     "metadata": {},
     "output_type": "execute_result"
    }
   ],
   "source": [
    "my_bbq.model"
   ]
  },
  {
   "cell_type": "code",
   "execution_count": 11,
   "id": "543eca93-bba9-42a6-bd1e-886c6ac3b6a6",
   "metadata": {
    "slideshow": {
     "slide_type": "slide"
    }
   },
   "outputs": [
    {
     "name": "stdout",
     "output_type": "stream",
     "text": [
      "🔥🔥🔥 Weber E-330 is on fire! 🔥🔥🔥\n"
     ]
    }
   ],
   "source": [
    "my_bbq.grill()"
   ]
  },
  {
   "cell_type": "markdown",
   "id": "2100bb8b",
   "metadata": {
    "slideshow": {
     "slide_type": "slide"
    }
   },
   "source": [
    "# Pandas"
   ]
  },
  {
   "cell_type": "code",
   "execution_count": 12,
   "id": "a8e08b22-0e92-49f6-86a2-b3fe9ca302cd",
   "metadata": {
    "slideshow": {
     "slide_type": "slide"
    }
   },
   "outputs": [],
   "source": [
    "import pandas as pd"
   ]
  },
  {
   "cell_type": "code",
   "execution_count": 13,
   "id": "14a67cf2-ea7c-45ad-9602-a8b1f9190755",
   "metadata": {
    "slideshow": {
     "slide_type": "slide"
    }
   },
   "outputs": [
    {
     "data": {
      "text/plain": [
       "0    1\n",
       "1    2\n",
       "2    3\n",
       "dtype: int64"
      ]
     },
     "execution_count": 13,
     "metadata": {},
     "output_type": "execute_result"
    }
   ],
   "source": [
    "a_series = pd.Series([1, 2, 3])\n",
    "a_series"
   ]
  },
  {
   "cell_type": "code",
   "execution_count": 14,
   "id": "fcfa5c31-74c4-42cd-8dde-70b50c861d68",
   "metadata": {
    "slideshow": {
     "slide_type": "slide"
    }
   },
   "outputs": [
    {
     "data": {
      "text/html": [
       "<div>\n",
       "<style scoped>\n",
       "    .dataframe tbody tr th:only-of-type {\n",
       "        vertical-align: middle;\n",
       "    }\n",
       "\n",
       "    .dataframe tbody tr th {\n",
       "        vertical-align: top;\n",
       "    }\n",
       "\n",
       "    .dataframe thead th {\n",
       "        text-align: right;\n",
       "    }\n",
       "</style>\n",
       "<table border=\"1\" class=\"dataframe\">\n",
       "  <thead>\n",
       "    <tr style=\"text-align: right;\">\n",
       "      <th></th>\n",
       "      <th>col_1</th>\n",
       "      <th>col_2</th>\n",
       "    </tr>\n",
       "  </thead>\n",
       "  <tbody>\n",
       "    <tr>\n",
       "      <th>0</th>\n",
       "      <td>1</td>\n",
       "      <td>4.1</td>\n",
       "    </tr>\n",
       "    <tr>\n",
       "      <th>1</th>\n",
       "      <td>2</td>\n",
       "      <td>5.4</td>\n",
       "    </tr>\n",
       "    <tr>\n",
       "      <th>2</th>\n",
       "      <td>3</td>\n",
       "      <td>6.1</td>\n",
       "    </tr>\n",
       "  </tbody>\n",
       "</table>\n",
       "</div>"
      ],
      "text/plain": [
       "   col_1  col_2\n",
       "0      1    4.1\n",
       "1      2    5.4\n",
       "2      3    6.1"
      ]
     },
     "execution_count": 14,
     "metadata": {},
     "output_type": "execute_result"
    }
   ],
   "source": [
    "a_dataframe = pd.DataFrame({\"col_1\": [1, 2, 3], \"col_2\": [4.1, 5.4, 6.1]})\n",
    "a_dataframe"
   ]
  },
  {
   "cell_type": "code",
   "execution_count": 15,
   "id": "d9312c1b-02d6-4494-90e2-ebf3dafd9da9",
   "metadata": {
    "slideshow": {
     "slide_type": "slide"
    }
   },
   "outputs": [
    {
     "data": {
      "text/plain": [
       "dtype('int64')"
      ]
     },
     "execution_count": 15,
     "metadata": {},
     "output_type": "execute_result"
    }
   ],
   "source": [
    "a_series.dtypes"
   ]
  },
  {
   "cell_type": "code",
   "execution_count": 16,
   "id": "66263c99-1647-4bcc-b7f0-dc9a962d5577",
   "metadata": {
    "slideshow": {
     "slide_type": "slide"
    }
   },
   "outputs": [
    {
     "data": {
      "text/plain": [
       "RangeIndex(start=0, stop=3, step=1)"
      ]
     },
     "execution_count": 16,
     "metadata": {},
     "output_type": "execute_result"
    }
   ],
   "source": [
    "a_series.index"
   ]
  },
  {
   "cell_type": "code",
   "execution_count": 17,
   "id": "53b4f17a-e2b8-4dd9-b7a5-01ee6981e3dc",
   "metadata": {
    "slideshow": {
     "slide_type": "slide"
    }
   },
   "outputs": [
    {
     "data": {
      "text/plain": [
       "col_1      int64\n",
       "col_2    float64\n",
       "dtype: object"
      ]
     },
     "execution_count": 17,
     "metadata": {},
     "output_type": "execute_result"
    }
   ],
   "source": [
    "a_dataframe.dtypes"
   ]
  },
  {
   "cell_type": "code",
   "execution_count": 18,
   "id": "515c0053-8538-49ec-80f1-6a30f81ca0e8",
   "metadata": {
    "slideshow": {
     "slide_type": "slide"
    }
   },
   "outputs": [
    {
     "data": {
      "text/plain": [
       "RangeIndex(start=0, stop=3, step=1)"
      ]
     },
     "execution_count": 18,
     "metadata": {},
     "output_type": "execute_result"
    }
   ],
   "source": [
    "a_dataframe.index"
   ]
  },
  {
   "cell_type": "code",
   "execution_count": 19,
   "id": "5aa497e0-b3d8-4da2-bf74-50a6c01d08c0",
   "metadata": {
    "slideshow": {
     "slide_type": "slide"
    }
   },
   "outputs": [
    {
     "name": "stdout",
     "output_type": "stream",
     "text": [
      "<class 'pandas.core.series.Series'>\n",
      "RangeIndex: 3 entries, 0 to 2\n",
      "Series name: None\n",
      "Non-Null Count  Dtype\n",
      "--------------  -----\n",
      "3 non-null      int64\n",
      "dtypes: int64(1)\n",
      "memory usage: 152.0 bytes\n"
     ]
    }
   ],
   "source": [
    "a_series.info()"
   ]
  },
  {
   "cell_type": "code",
   "execution_count": 20,
   "id": "03d1d22a-5cdc-4c25-a1f9-172fd1b18e8c",
   "metadata": {
    "slideshow": {
     "slide_type": "slide"
    }
   },
   "outputs": [
    {
     "data": {
      "text/plain": [
       "count    3.0\n",
       "mean     2.0\n",
       "std      1.0\n",
       "min      1.0\n",
       "25%      1.5\n",
       "50%      2.0\n",
       "75%      2.5\n",
       "max      3.0\n",
       "dtype: float64"
      ]
     },
     "execution_count": 20,
     "metadata": {},
     "output_type": "execute_result"
    }
   ],
   "source": [
    "a_series.describe()"
   ]
  },
  {
   "cell_type": "code",
   "execution_count": 21,
   "id": "68d9e4c8-d134-410a-92c6-b34cd8aaaf05",
   "metadata": {
    "slideshow": {
     "slide_type": "slide"
    }
   },
   "outputs": [
    {
     "name": "stdout",
     "output_type": "stream",
     "text": [
      "<class 'pandas.core.frame.DataFrame'>\n",
      "RangeIndex: 3 entries, 0 to 2\n",
      "Data columns (total 2 columns):\n",
      " #   Column  Non-Null Count  Dtype  \n",
      "---  ------  --------------  -----  \n",
      " 0   col_1   3 non-null      int64  \n",
      " 1   col_2   3 non-null      float64\n",
      "dtypes: float64(1), int64(1)\n",
      "memory usage: 176.0 bytes\n"
     ]
    }
   ],
   "source": [
    "a_dataframe.info()"
   ]
  },
  {
   "cell_type": "code",
   "execution_count": 22,
   "id": "850fcc9b-5393-49cd-9e72-2a0b9c3675f3",
   "metadata": {
    "slideshow": {
     "slide_type": "slide"
    }
   },
   "outputs": [
    {
     "data": {
      "text/html": [
       "<div>\n",
       "<style scoped>\n",
       "    .dataframe tbody tr th:only-of-type {\n",
       "        vertical-align: middle;\n",
       "    }\n",
       "\n",
       "    .dataframe tbody tr th {\n",
       "        vertical-align: top;\n",
       "    }\n",
       "\n",
       "    .dataframe thead th {\n",
       "        text-align: right;\n",
       "    }\n",
       "</style>\n",
       "<table border=\"1\" class=\"dataframe\">\n",
       "  <thead>\n",
       "    <tr style=\"text-align: right;\">\n",
       "      <th></th>\n",
       "      <th>col_1</th>\n",
       "      <th>col_2</th>\n",
       "    </tr>\n",
       "  </thead>\n",
       "  <tbody>\n",
       "    <tr>\n",
       "      <th>count</th>\n",
       "      <td>3.0</td>\n",
       "      <td>3.000000</td>\n",
       "    </tr>\n",
       "    <tr>\n",
       "      <th>mean</th>\n",
       "      <td>2.0</td>\n",
       "      <td>5.200000</td>\n",
       "    </tr>\n",
       "    <tr>\n",
       "      <th>std</th>\n",
       "      <td>1.0</td>\n",
       "      <td>1.014889</td>\n",
       "    </tr>\n",
       "    <tr>\n",
       "      <th>min</th>\n",
       "      <td>1.0</td>\n",
       "      <td>4.100000</td>\n",
       "    </tr>\n",
       "    <tr>\n",
       "      <th>25%</th>\n",
       "      <td>1.5</td>\n",
       "      <td>4.750000</td>\n",
       "    </tr>\n",
       "    <tr>\n",
       "      <th>50%</th>\n",
       "      <td>2.0</td>\n",
       "      <td>5.400000</td>\n",
       "    </tr>\n",
       "    <tr>\n",
       "      <th>75%</th>\n",
       "      <td>2.5</td>\n",
       "      <td>5.750000</td>\n",
       "    </tr>\n",
       "    <tr>\n",
       "      <th>max</th>\n",
       "      <td>3.0</td>\n",
       "      <td>6.100000</td>\n",
       "    </tr>\n",
       "  </tbody>\n",
       "</table>\n",
       "</div>"
      ],
      "text/plain": [
       "       col_1     col_2\n",
       "count    3.0  3.000000\n",
       "mean     2.0  5.200000\n",
       "std      1.0  1.014889\n",
       "min      1.0  4.100000\n",
       "25%      1.5  4.750000\n",
       "50%      2.0  5.400000\n",
       "75%      2.5  5.750000\n",
       "max      3.0  6.100000"
      ]
     },
     "execution_count": 22,
     "metadata": {},
     "output_type": "execute_result"
    }
   ],
   "source": [
    "a_dataframe.describe()"
   ]
  },
  {
   "cell_type": "code",
   "execution_count": 23,
   "id": "42ae681c-b4af-4469-8e2f-087b1eb36b08",
   "metadata": {
    "slideshow": {
     "slide_type": "slide"
    }
   },
   "outputs": [
    {
     "data": {
      "text/html": [
       "<div>\n",
       "<style scoped>\n",
       "    .dataframe tbody tr th:only-of-type {\n",
       "        vertical-align: middle;\n",
       "    }\n",
       "\n",
       "    .dataframe tbody tr th {\n",
       "        vertical-align: top;\n",
       "    }\n",
       "\n",
       "    .dataframe thead th {\n",
       "        text-align: right;\n",
       "    }\n",
       "</style>\n",
       "<table border=\"1\" class=\"dataframe\">\n",
       "  <thead>\n",
       "    <tr style=\"text-align: right;\">\n",
       "      <th></th>\n",
       "      <th>col_1</th>\n",
       "      <th>col_2</th>\n",
       "    </tr>\n",
       "  </thead>\n",
       "  <tbody>\n",
       "    <tr>\n",
       "      <th>0</th>\n",
       "      <td>1</td>\n",
       "      <td>4.1</td>\n",
       "    </tr>\n",
       "  </tbody>\n",
       "</table>\n",
       "</div>"
      ],
      "text/plain": [
       "   col_1  col_2\n",
       "0      1    4.1"
      ]
     },
     "execution_count": 23,
     "metadata": {},
     "output_type": "execute_result"
    }
   ],
   "source": [
    "a_dataframe.head(1)"
   ]
  },
  {
   "cell_type": "markdown",
   "id": "bbece2e3-92f4-4593-892a-fbb6bcf14cd3",
   "metadata": {
    "slideshow": {
     "slide_type": "slide"
    }
   },
   "source": [
    "Now, when you read pandas documentation, you should not be too confused\n",
    "now. Let’s say, you are looking for\n",
    "[`pandas.read_csv()`](https://pandas.pydata.org/docs/reference/api/pandas.read_csv.html#pandas-read-csv)."
   ]
  },
  {
   "cell_type": "code",
   "execution_count": 24,
   "id": "c312b5d0-f7c0-4731-b18b-12d7929be877",
   "metadata": {
    "slideshow": {
     "slide_type": "slide"
    }
   },
   "outputs": [
    {
     "data": {
      "text/html": [
       "<div>\n",
       "<style scoped>\n",
       "    .dataframe tbody tr th:only-of-type {\n",
       "        vertical-align: middle;\n",
       "    }\n",
       "\n",
       "    .dataframe tbody tr th {\n",
       "        vertical-align: top;\n",
       "    }\n",
       "\n",
       "    .dataframe thead th {\n",
       "        text-align: right;\n",
       "    }\n",
       "</style>\n",
       "<table border=\"1\" class=\"dataframe\">\n",
       "  <thead>\n",
       "    <tr style=\"text-align: right;\">\n",
       "      <th></th>\n",
       "      <th>Country</th>\n",
       "      <th>Region</th>\n",
       "    </tr>\n",
       "  </thead>\n",
       "  <tbody>\n",
       "    <tr>\n",
       "      <th>0</th>\n",
       "      <td>Algeria</td>\n",
       "      <td>AFRICA</td>\n",
       "    </tr>\n",
       "    <tr>\n",
       "      <th>1</th>\n",
       "      <td>Angola</td>\n",
       "      <td>AFRICA</td>\n",
       "    </tr>\n",
       "    <tr>\n",
       "      <th>2</th>\n",
       "      <td>Benin</td>\n",
       "      <td>AFRICA</td>\n",
       "    </tr>\n",
       "    <tr>\n",
       "      <th>3</th>\n",
       "      <td>Botswana</td>\n",
       "      <td>AFRICA</td>\n",
       "    </tr>\n",
       "    <tr>\n",
       "      <th>4</th>\n",
       "      <td>Burkina</td>\n",
       "      <td>AFRICA</td>\n",
       "    </tr>\n",
       "  </tbody>\n",
       "</table>\n",
       "</div>"
      ],
      "text/plain": [
       "    Country  Region\n",
       "0   Algeria  AFRICA\n",
       "1    Angola  AFRICA\n",
       "2     Benin  AFRICA\n",
       "3  Botswana  AFRICA\n",
       "4   Burkina  AFRICA"
      ]
     },
     "execution_count": 24,
     "metadata": {},
     "output_type": "execute_result"
    }
   ],
   "source": [
    "countries = pd.read_csv(\"https://raw.githubusercontent.com/cs109/2014_data/master/countries.csv\")\n",
    "countries.head(5)"
   ]
  },
  {
   "cell_type": "markdown",
   "id": "31265f31-f1cd-4bb6-85a9-79bf956f977b",
   "metadata": {
    "slideshow": {
     "slide_type": "slide"
    }
   },
   "source": [
    "Here is the documentation for a very similar function,\n",
    "[`pandas.DataFrame.to_csv()`](https://pandas.pydata.org/docs/reference/api/pandas.DataFrame.to_csv.html)."
   ]
  },
  {
   "cell_type": "code",
   "execution_count": 25,
   "id": "40fc4f43-16db-4c99-bdfc-71b9739c07ea",
   "metadata": {
    "slideshow": {
     "slide_type": "slide"
    }
   },
   "outputs": [],
   "source": [
    "# This doesn't work\n",
    "# pd.to_csv(\"https://raw.githubusercontent.com/cs109/2014_data/master/countries.csv\")\n",
    "# This works\n",
    "countries.to_csv(\"countries.csv\")"
   ]
  }
 ],
 "metadata": {
  "celltoolbar": "Slideshow",
  "kernelspec": {
   "display_name": "Python 3 (ipykernel)",
   "language": "python",
   "name": "python3"
  },
  "language_info": {
   "codemirror_mode": {
    "name": "ipython",
    "version": 3
   },
   "file_extension": ".py",
   "mimetype": "text/x-python",
   "name": "python",
   "nbconvert_exporter": "python",
   "pygments_lexer": "ipython3",
   "version": "3.10.6"
  },
  "vscode": {
   "interpreter": {
    "hash": "b0fa6594d8f4cbf19f97940f81e996739fb7646882a419484c72d19e05852a7e"
   }
  }
 },
 "nbformat": 4,
 "nbformat_minor": 5
}
