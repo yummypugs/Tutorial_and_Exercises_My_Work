{
 "cells": [
  {
   "cell_type": "markdown",
   "source": [
    "# Exercise 1\n",
    "### a. What are the main motivations for reducing a dataset’s dimensionality? What are the main drawbacks?\n",
    "Data becomes easier to work with, and\n",
    "### b.Describe the Johnson–Lindenstrauss lemma.\n",
    "Distance conservation when going from higher to lower dimensions with a very low amount of lost information.\n",
    "### c. What is the curse of dimensionality?\n",
    "The curse of dimensionality is that your set of data will increase exponentially the higher you go in the dimensions. E.g. in the first dimension, a line which is 10 units long, will become a 10 x 10 square in the second dimension and in the third dimension a 10 x 10 x 10 cube, and so on. This means that the amount of data is increase by a factor 10 each time. the 2D space would have 100 data points and 3D 1000.\n"
   ],
   "metadata": {
    "collapsed": false
   }
  },
  {
   "cell_type": "markdown",
   "source": [
    "# Exercise 2\n",
    "## a"
   ],
   "metadata": {
    "collapsed": false
   }
  },
  {
   "cell_type": "code",
   "execution_count": 11,
   "outputs": [],
   "source": [
    "import matplotlib.pyplot as plt\n",
    "import numpy as np\n",
    "import pandas as pd\n",
    "import altair as alt"
   ],
   "metadata": {
    "collapsed": false
   }
  },
  {
   "cell_type": "code",
   "execution_count": 12,
   "metadata": {
    "collapsed": true
   },
   "outputs": [
    {
     "data": {
      "text/plain": "   x  y\n0 -7  0\n1 -6 -1\n2  1  5\n3  0  6",
      "text/html": "<div>\n<style scoped>\n    .dataframe tbody tr th:only-of-type {\n        vertical-align: middle;\n    }\n\n    .dataframe tbody tr th {\n        vertical-align: top;\n    }\n\n    .dataframe thead th {\n        text-align: right;\n    }\n</style>\n<table border=\"1\" class=\"dataframe\">\n  <thead>\n    <tr style=\"text-align: right;\">\n      <th></th>\n      <th>x</th>\n      <th>y</th>\n    </tr>\n  </thead>\n  <tbody>\n    <tr>\n      <th>0</th>\n      <td>-7</td>\n      <td>0</td>\n    </tr>\n    <tr>\n      <th>1</th>\n      <td>-6</td>\n      <td>-1</td>\n    </tr>\n    <tr>\n      <th>2</th>\n      <td>1</td>\n      <td>5</td>\n    </tr>\n    <tr>\n      <th>3</th>\n      <td>0</td>\n      <td>6</td>\n    </tr>\n  </tbody>\n</table>\n</div>"
     },
     "execution_count": 12,
     "metadata": {},
     "output_type": "execute_result"
    }
   ],
   "source": [
    "D = {(1, 5),(0, 6),(-7, 0),(-6, -1)}\n",
    "ser = pd.DataFrame(D, columns=['x', 'y'])\n",
    "ser"
   ]
  },
  {
   "cell_type": "code",
   "execution_count": 13,
   "outputs": [
    {
     "data": {
      "text/plain": "<Figure size 640x480 with 1 Axes>",
      "image/png": "[encoded data removed]"
     },
     "metadata": {},
     "output_type": "display_data"
    }
   ],
   "source": [
    "plt.plot(ser)\n",
    "plt.show()"
   ],
   "metadata": {
    "collapsed": false
   }
  },
  {
   "cell_type": "code",
   "execution_count": 14,
   "outputs": [
    {
     "data": {
      "text/html": "\n<div id=\"altair-viz-8478cceacc874cb286c0ca06263fcb84\"></div>\n<script type=\"text/javascript\">\n  (function(spec, embedOpt){\n    let outputDiv = document.currentScript.previousElementSibling;\n    if (outputDiv.id !== \"altair-viz-8478cceacc874cb286c0ca06263fcb84\") {\n      outputDiv = document.getElementById(\"altair-viz-8478cceacc874cb286c0ca06263fcb84\");\n    }\n    const paths = {\n      \"vega\": \"https://cdn.jsdelivr.net/npm//vega@5?noext\",\n      \"vega-lib\": \"https://cdn.jsdelivr.net/npm//vega-lib?noext\",\n      \"vega-lite\": \"https://cdn.jsdelivr.net/npm//vega-lite@4.8.1?noext\",\n      \"vega-embed\": \"https://cdn.jsdelivr.net/npm//vega-embed@6?noext\",\n    };\n\n    function loadScript(lib) {\n      return new Promise(function(resolve, reject) {\n        var s = document.createElement('script');\n        s.src = paths[lib];\n        s.async = true;\n        s.onload = () => resolve(paths[lib]);\n        s.onerror = () => reject(`Error loading script: ${paths[lib]}`);\n        document.getElementsByTagName(\"head\")[0].appendChild(s);\n      });\n    }\n\n    function showError(err) {\n      outputDiv.innerHTML = `<div class=\"error\" style=\"color:red;\">${err}</div>`;\n      throw err;\n    }\n\n    function displayChart(vegaEmbed) {\n      vegaEmbed(outputDiv, spec, embedOpt)\n        .catch(err => showError(`Javascript Error: ${err.message}<br>This usually means there's a typo in your chart specification. See the javascript console for the full traceback.`));\n    }\n\n    if(typeof define === \"function\" && define.amd) {\n      requirejs.config({paths});\n      require([\"vega-embed\"], displayChart, err => showError(`Error loading script: ${err.message}`));\n    } else if (typeof vegaEmbed === \"function\") {\n      displayChart(vegaEmbed);\n    } else {\n      loadScript(\"vega\")\n        .then(() => loadScript(\"vega-lite\"))\n        .then(() => loadScript(\"vega-embed\"))\n        .catch(showError)\n        .then(() => displayChart(vegaEmbed));\n    }\n  })({\"config\": {\"view\": {\"continuousWidth\": 400, \"continuousHeight\": 300}}, \"data\": {\"name\": \"data-64ce74cfc05d8225e12ceef32207f651\"}, \"mark\": \"circle\", \"encoding\": {\"tooltip\": [{\"type\": \"quantitative\", \"field\": \"x\"}, {\"type\": \"quantitative\", \"field\": \"y\"}], \"x\": {\"type\": \"quantitative\", \"field\": \"x\"}, \"y\": {\"type\": \"quantitative\", \"field\": \"y\"}}, \"$schema\": \"https://vega.github.io/schema/vega-lite/v4.8.1.json\", \"datasets\": {\"data-64ce74cfc05d8225e12ceef32207f651\": [{\"x\": -7, \"y\": 0}, {\"x\": -6, \"y\": -1}, {\"x\": 1, \"y\": 5}, {\"x\": 0, \"y\": 6}]}}, {\"mode\": \"vega-lite\"});\n</script>",
      "text/plain": "alt.Chart(...)"
     },
     "execution_count": 14,
     "metadata": {},
     "output_type": "execute_result"
    }
   ],
   "source": [
    "alt.Chart(ser).mark_circle().encode(\n",
    "    x='x',\n",
    "    y='y',\n",
    "    tooltip=['x', 'y']\n",
    ")"
   ],
   "metadata": {
    "collapsed": false
   }
  },
  {
   "cell_type": "code",
   "execution_count": 15,
   "outputs": [],
   "source": [
    "center = ser.loc[:, ['x', 'y']]\n",
    "center = center - center.mean()\n",
    "# Center the data so each feature has zero mean\n",
    "center_chart = alt.Chart(center).mark_circle().encode(\n",
    "    x='x',\n",
    "    y='y',\n",
    "    tooltip=['x', 'y']\n",
    ")"
   ],
   "metadata": {
    "collapsed": false
   }
  },
  {
   "cell_type": "code",
   "execution_count": 16,
   "outputs": [
    {
     "name": "stdout",
     "output_type": "stream",
     "text": [
      "S:\n",
      "[[16.66666667 13.66666667]\n",
      " [13.66666667 12.33333333]]\n"
     ]
    }
   ],
   "source": [
    "D = ser.to_numpy().transpose() # ser is the Series \"X\" and D is now X^T transposed\n",
    "# cov(X*X^T) = E(eigenvalue diagonal)E^T\n",
    "S = np.cov(D)\n",
    "print(f'S:\\n{S}')\n",
    "# S = E(=eigenvector matrix)(eigenvalue diagonal)E^T(=eigenvector matrix transposed)"
   ],
   "metadata": {
    "collapsed": false
   }
  },
  {
   "cell_type": "code",
   "execution_count": 17,
   "outputs": [
    {
     "name": "stdout",
     "output_type": "stream",
     "text": [
      "S:\n",
      "[[28.66666667  3.66666667]\n",
      " [ 3.66666667 20.66666667]]\n"
     ]
    }
   ],
   "source": [
    "S = D @ D.T / (D.shape[-1] - 1)\n",
    "print(f\"S:\\n{S}\")"
   ],
   "metadata": {
    "collapsed": false
   }
  },
  {
   "cell_type": "code",
   "execution_count": 18,
   "outputs": [
    {
     "name": "stdout",
     "output_type": "stream",
     "text": [
      "l:\n",
      "[19.24039313 30.0929402 ],\n",
      "v:\n",
      "[[ 0.36252301 -0.93197482]\n",
      " [-0.93197482 -0.36252301]]\n"
     ]
    }
   ],
   "source": [
    "l, v = np.linalg.eigh(S) # l = eigenvalues, v = eigenvectors, eigh is the formula for Hermidian matrix! (Symmetric matrix!)\n",
    "print(f\"l:\\n{l},\\nv:\\n{v}\")\n",
    "# Note that we use np.linalg.eigh() because S is a symmetric matix, np.linalg.eigh() gives better performance than np.linalg.eig()"
   ],
   "metadata": {
    "collapsed": false
   }
  },
  {
   "cell_type": "code",
   "execution_count": 19,
   "outputs": [
    {
     "name": "stdout",
     "output_type": "stream",
     "text": [
      "v:\n",
      "[[-0.93197482  0.36252301]\n",
      " [-0.36252301 -0.93197482]]\n"
     ]
    }
   ],
   "source": [
    "# We sort the eigenvectors by their eigenvalues the higher the eigenvalue, the higher importance it associates\n",
    "idx = np.argsort(l)[::-1]\n",
    "l = l[idx]\n",
    "v = v[:,idx]\n",
    "print(f\"v:\\n{v}\")"
   ],
   "metadata": {
    "collapsed": false
   }
  },
  {
   "cell_type": "code",
   "execution_count": 20,
   "outputs": [
    {
     "data": {
      "text/html": "\n<div id=\"altair-viz-6e785a2c46f14ebba05d2698f6ad426f\"></div>\n<script type=\"text/javascript\">\n  (function(spec, embedOpt){\n    let outputDiv = document.currentScript.previousElementSibling;\n    if (outputDiv.id !== \"altair-viz-6e785a2c46f14ebba05d2698f6ad426f\") {\n      outputDiv = document.getElementById(\"altair-viz-6e785a2c46f14ebba05d2698f6ad426f\");\n    }\n    const paths = {\n      \"vega\": \"https://cdn.jsdelivr.net/npm//vega@5?noext\",\n      \"vega-lib\": \"https://cdn.jsdelivr.net/npm//vega-lib?noext\",\n      \"vega-lite\": \"https://cdn.jsdelivr.net/npm//vega-lite@4.8.1?noext\",\n      \"vega-embed\": \"https://cdn.jsdelivr.net/npm//vega-embed@6?noext\",\n    };\n\n    function loadScript(lib) {\n      return new Promise(function(resolve, reject) {\n        var s = document.createElement('script');\n        s.src = paths[lib];\n        s.async = true;\n        s.onload = () => resolve(paths[lib]);\n        s.onerror = () => reject(`Error loading script: ${paths[lib]}`);\n        document.getElementsByTagName(\"head\")[0].appendChild(s);\n      });\n    }\n\n    function showError(err) {\n      outputDiv.innerHTML = `<div class=\"error\" style=\"color:red;\">${err}</div>`;\n      throw err;\n    }\n\n    function displayChart(vegaEmbed) {\n      vegaEmbed(outputDiv, spec, embedOpt)\n        .catch(err => showError(`Javascript Error: ${err.message}<br>This usually means there's a typo in your chart specification. See the javascript console for the full traceback.`));\n    }\n\n    if(typeof define === \"function\" && define.amd) {\n      requirejs.config({paths});\n      require([\"vega-embed\"], displayChart, err => showError(`Error loading script: ${err.message}`));\n    } else if (typeof vegaEmbed === \"function\") {\n      displayChart(vegaEmbed);\n    } else {\n      loadScript(\"vega\")\n        .then(() => loadScript(\"vega-lite\"))\n        .then(() => loadScript(\"vega-embed\"))\n        .catch(showError)\n        .then(() => displayChart(vegaEmbed));\n    }\n  })({\"config\": {\"view\": {\"continuousWidth\": 400, \"continuousHeight\": 300}}, \"layer\": [{\"data\": {\"name\": \"data-74e410db152f5709403695ea176ee816\"}, \"mark\": {\"type\": \"line\", \"color\": \"grey\", \"opacity\": 0.8}, \"encoding\": {\"tooltip\": [{\"type\": \"quantitative\", \"field\": \"x\"}, {\"type\": \"quantitative\", \"field\": \"y\"}], \"x\": {\"type\": \"quantitative\", \"field\": \"x\"}, \"y\": {\"type\": \"quantitative\", \"field\": \"y\"}}}, {\"data\": {\"name\": \"data-093306fe1ed19a6d7a5847d224ce8462\"}, \"mark\": \"circle\", \"encoding\": {\"tooltip\": [{\"type\": \"quantitative\", \"field\": \"x\"}, {\"type\": \"quantitative\", \"field\": \"y\"}], \"x\": {\"type\": \"quantitative\", \"field\": \"x\"}, \"y\": {\"type\": \"quantitative\", \"field\": \"y\"}}}], \"$schema\": \"https://vega.github.io/schema/vega-lite/v4.8.1.json\", \"datasets\": {\"data-74e410db152f5709403695ea176ee816\": [{\"x\": -18.63949645350293, \"y\": -7.250460120561433}, {\"x\": 18.63949645350293, \"y\": 7.250460120561433}], \"data-093306fe1ed19a6d7a5847d224ce8462\": [{\"x\": -4.0, \"y\": -2.5}, {\"x\": -3.0, \"y\": -3.5}, {\"x\": 4.0, \"y\": 2.5}, {\"x\": 3.0, \"y\": 3.5}]}}, {\"mode\": \"vega-lite\"});\n</script>",
      "text/plain": "alt.LayerChart(...)"
     },
     "execution_count": 20,
     "metadata": {},
     "output_type": "execute_result"
    }
   ],
   "source": [
    "eigenvector = pd.DataFrame(np.vstack([v[:, 0]*20, v[:, 0]*-20]), columns=[\"x\", \"y\"])\n",
    "\n",
    "eigenvector_chart = alt.Chart(eigenvector).mark_line(color=\"grey\", opacity=0.8).encode(\n",
    "    x=\"x\",\n",
    "    y=\"y\",\n",
    "    tooltip=[\"x\", \"y\"],\n",
    ")\n",
    "\n",
    "eigenvector_chart + center_chart"
   ],
   "metadata": {
    "collapsed": false
   }
  },
  {
   "cell_type": "code",
   "execution_count": 21,
   "outputs": [
    {
     "data": {
      "text/plain": "     x    y  projection\n0 -4.0 -2.5    6.523824\n1 -3.0 -3.5    5.954372\n2  4.0  2.5   -2.744590\n3  3.0  3.5   -2.175138",
      "text/html": "<div>\n<style scoped>\n    .dataframe tbody tr th:only-of-type {\n        vertical-align: middle;\n    }\n\n    .dataframe tbody tr th {\n        vertical-align: top;\n    }\n\n    .dataframe thead th {\n        text-align: right;\n    }\n</style>\n<table border=\"1\" class=\"dataframe\">\n  <thead>\n    <tr style=\"text-align: right;\">\n      <th></th>\n      <th>x</th>\n      <th>y</th>\n      <th>projection</th>\n    </tr>\n  </thead>\n  <tbody>\n    <tr>\n      <th>0</th>\n      <td>-4.0</td>\n      <td>-2.5</td>\n      <td>6.523824</td>\n    </tr>\n    <tr>\n      <th>1</th>\n      <td>-3.0</td>\n      <td>-3.5</td>\n      <td>5.954372</td>\n    </tr>\n    <tr>\n      <th>2</th>\n      <td>4.0</td>\n      <td>2.5</td>\n      <td>-2.744590</td>\n    </tr>\n    <tr>\n      <th>3</th>\n      <td>3.0</td>\n      <td>3.5</td>\n      <td>-2.175138</td>\n    </tr>\n  </tbody>\n</table>\n</div>"
     },
     "execution_count": 21,
     "metadata": {},
     "output_type": "execute_result"
    }
   ],
   "source": [
    "center[\"projection\"] = (v.T[:1] @ D).reshape(-1)\n",
    "center.head(5)"
   ],
   "metadata": {
    "collapsed": false
   }
  },
  {
   "cell_type": "code",
   "execution_count": 22,
   "outputs": [
    {
     "data": {
      "text/plain": "     x    y  projection  projection_svd\n0 -4.0 -2.5    6.523824       -6.523824\n1 -3.0 -3.5    5.954372       -5.954372\n2  4.0  2.5   -2.744590        2.744590\n3  3.0  3.5   -2.175138        2.175138",
      "text/html": "<div>\n<style scoped>\n    .dataframe tbody tr th:only-of-type {\n        vertical-align: middle;\n    }\n\n    .dataframe tbody tr th {\n        vertical-align: top;\n    }\n\n    .dataframe thead th {\n        text-align: right;\n    }\n</style>\n<table border=\"1\" class=\"dataframe\">\n  <thead>\n    <tr style=\"text-align: right;\">\n      <th></th>\n      <th>x</th>\n      <th>y</th>\n      <th>projection</th>\n      <th>projection_svd</th>\n    </tr>\n  </thead>\n  <tbody>\n    <tr>\n      <th>0</th>\n      <td>-4.0</td>\n      <td>-2.5</td>\n      <td>6.523824</td>\n      <td>-6.523824</td>\n    </tr>\n    <tr>\n      <th>1</th>\n      <td>-3.0</td>\n      <td>-3.5</td>\n      <td>5.954372</td>\n      <td>-5.954372</td>\n    </tr>\n    <tr>\n      <th>2</th>\n      <td>4.0</td>\n      <td>2.5</td>\n      <td>-2.744590</td>\n      <td>2.744590</td>\n    </tr>\n    <tr>\n      <th>3</th>\n      <td>3.0</td>\n      <td>3.5</td>\n      <td>-2.175138</td>\n      <td>2.175138</td>\n    </tr>\n  </tbody>\n</table>\n</div>"
     },
     "execution_count": 22,
     "metadata": {},
     "output_type": "execute_result"
    }
   ],
   "source": [
    "u, s, vh = np.linalg.svd(D)\n",
    "# There is even no need to sort\n",
    "# 2D -> 1D\n",
    "center[\"projection_svd\"] = (u.T[:1] @ D).reshape(-1)\n",
    "center.head(5)"
   ],
   "metadata": {
    "collapsed": false
   }
  },
  {
   "cell_type": "markdown",
   "source": [
    "# Exercise 3\n",
    "## a"
   ],
   "metadata": {
    "collapsed": false
   }
  },
  {
   "cell_type": "code",
   "execution_count": 23,
   "outputs": [],
   "source": [
    "from sklearn import random_projection"
   ],
   "metadata": {
    "collapsed": false
   }
  },
  {
   "cell_type": "code",
   "execution_count": 34,
   "outputs": [
    {
     "name": "stdout",
     "output_type": "stream",
     "text": [
      "SparseRandomProjection(density=0.3333333333333333)\n",
      "[[   1    2    3]\n",
      " [   2 2233    3]\n",
      " [   1    2   12]]\n"
     ]
    }
   ],
   "source": [
    "R = random_projection.SparseRandomProjection(density=1/3.0)\n",
    "print(R)\n",
    "x = np.array([[1, 2, 3], [2, 2233, 3], [1, 2, 12]])\n",
    "print(x)\n",
    "\n"
   ],
   "metadata": {
    "collapsed": false
   }
  },
  {
   "cell_type": "code",
   "execution_count": 35,
   "outputs": [
    {
     "data": {
      "text/plain": "array([[   0,  594,  941],\n       [ 594, 6609,  941],\n       [   0,  594, 2129]], dtype=int64)"
     },
     "execution_count": 35,
     "metadata": {},
     "output_type": "execute_result"
    }
   ],
   "source": [
    "random_projection.johnson_lindenstrauss_min_dim(x)"
   ],
   "metadata": {
    "collapsed": false
   }
  },
  {
   "cell_type": "code",
   "execution_count": null,
   "outputs": [],
   "source": [],
   "metadata": {
    "collapsed": false
   }
  }
 ],
 "metadata": {
  "kernelspec": {
   "display_name": "Python 3",
   "language": "python",
   "name": "python3"
  },
  "language_info": {
   "codemirror_mode": {
    "name": "ipython",
    "version": 2
   },
   "file_extension": ".py",
   "mimetype": "text/x-python",
   "name": "python",
   "nbconvert_exporter": "python",
   "pygments_lexer": "ipython2",
   "version": "2.7.6"
  }
 },
 "nbformat": 4,
 "nbformat_minor": 0
}
