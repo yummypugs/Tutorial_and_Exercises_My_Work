{
  "cells": [
    {
      "cell_type": "raw",
      "metadata": {},
      "source": [
        "---\n",
        "title: 'Solution 3: Linear Regression'\n",
        "author: Jiawei Li\n",
        "---"
      ]
    },
    {
      "cell_type": "markdown",
      "metadata": {},
      "source": [
        "# Normal Equation\n",
        "To determine the set of parameters $\\alpha$ in linear regression (see lecture notes), we minimize the square Euclidean distance between model predictions $\\hat{y}^{(j)}=\\mathbf{x}^{(j)^{\\top}} \\alpha$ and the actual values of the dependent variables $y^{(j)}$ :\n",
        "\n",
        "$$\n",
        "J(\\alpha)=\\sum_{j=1}^m\\left[\\hat{y}^{(j)}-y^{(j)}\\right]^2=\\sum_{j=1}^m\\left[x^{(j)^{\\top}} \\alpha-y^{(j)}\\right]^2=\\|X \\alpha-y\\|_2^2\n",
        "$$\n",
        "\n",
        "Show that the least-squares estimate $\\alpha^*$ of $\\alpha$ is given by the normal equation\n",
        "\n",
        "$$\n",
        "\\alpha^*=\\left(X^{\\top} X\\right)^{-1} X^{\\top} y\n",
        "$$\n",
        "\n",
        "The loss function of linear regression can be written as follows, where $\\frac{1}{2}$ is added for convenience:\n",
        "\n",
        "$$\n",
        "\\begin{aligned}\n",
        "J(\\alpha) &= \\frac{1}{2} \\left[ (y - X \\alpha)^\\top (y - X \\alpha) \\right] \\\\\n",
        "&= \\frac{1}{2} \\left[(y - X\\alpha)^\\top y - (y - X\\alpha)^\\top X\\alpha \\right]\\\\\n",
        "&= \\frac{1}{2} \\left[y^\\top y - (X\\alpha)^\\top y - y^\\top X\\alpha + (X\\alpha)^\\top X\\alpha \\right]\\\\\n",
        "&= \\frac{1}{2} \\left[y^\\top y - 2(X\\alpha)^\\top y + \\alpha^\\top X^\\top X\\alpha \\right]\n",
        "\\end{aligned}\n",
        "$$\n",
        "\n",
        "We can calculate the Jacobian and Hessian matrix of the loss function, corresponding to the first and second derivative:\n",
        "\n",
        "$$\n",
        "\\begin{aligned}\n",
        "\\nabla_{\\alpha} J(\\alpha) &= \\nabla_{\\alpha} \\frac{1}{2} \\left[ y^\\top y - 2(X\\alpha)^\\top y + \\alpha^\\top X^\\top X\\alpha \\right] \\\\\n",
        "&= \\nabla_{\\alpha} \\frac{1}{2} \\left[-2 (X^\\top y)^\\top \\alpha + \\alpha^\\top X^\\top X\\alpha \\right] \\\\\n",
        "&= - X^\\top y  + X^\\top X \\alpha \\\\\n",
        "\\\\\n",
        "\\nabla_{\\alpha}^2 J(\\alpha) &= \\nabla_{\\alpha} \\left[ \\nabla_{\\alpha} J(\\alpha) \\right] \\\\\n",
        "&= \\nabla_{\\alpha} \\left[ - X^\\top y  + X^\\top X \\alpha \\right] \\\\\n",
        "&= X^\\top X\n",
        "\\end{aligned}\n",
        "$$\n",
        "\n",
        "For any matrix $X \\in \\mathbf{R}^{m \\times n}$, $X^\\top X$ is positive semi-definite. Therefore, $\\nabla_{\\alpha}^2 J(\\alpha)$ is also positive semi-definite and the loss function $J(\\alpha)$ is a convex function. A covex function reaches its global minimum when its first derivative, $\\nabla_{\\alpha} J(\\alpha)$, is zero. Therefore,\n",
        "\n",
        "$$\n",
        "\\begin{aligned}\n",
        "\\nabla_{\\alpha} J(\\alpha^*) &= 0 \\\\\n",
        "- X^\\top y  + X^\\top X \\alpha^* &= 0 \\\\\n",
        "\\alpha^* &= (X^\\top X)^{-1}X^\\top y\n",
        "\\end{aligned}\n",
        "$$\n",
        "\n",
        "\n",
        "# Climate Change and Global Warming\n",
        "The file climate_change (CSV) contains climate data from May 1983 to December 2008. The available variables include:\n",
        "\n",
        "- Year: the observation year.\n",
        "- Month: the observation month.\n",
        "- Temp: the difference in degrees Celsius between the average global temperature in that period and a reference value. This data comes from the Climatic Research Unit at the University of East Anglia.\n",
        "- CO2, N2O, CH4, CFC.11, CFC.12: atmospheric concentrations of carbon dioxide CO2, nitrous oxide N2O, methane CH4, trichlorofluoromethane (CCl3F; commonly referred to as CFC-11) and dichlorodifluoromethane (CCl2F2; commonly referred to as CFC-12), respectively. This data comes from the ESRL/NOAA Global Monitoring Division. CO2, N2O and CH4 are expressed in ppmv (parts per million by volume - i.e., $397 ppmv of CO2 means that CO2 constitutes 397 millionths of the total volume of the atmosphere) CFC.11 and CFC.12 are expressed in ppbv (parts per billion by volume).\n",
        "- Aerosols: the mean stratospheric aerosol optical depth at $550 ~nm. This variable is linked to volcanoes, as volcanic eruptions result in new particles being added to the atmosphere, which affect how much of the sun's energy is reflected back into space. This data is from the Godard Institute for Space Studies at NASA.\n",
        "- TSI: the total solar irradiance (TSI) in W/m2 (the rate at which the sun's energy is deposited per unit area). Due to sunspots and other solar phenomena, the amount of energy that is given off by the sun varies substantially with time. This data is from the SOLARIS-HEPPA project website.\n",
        "- MEI: multivariate El Nino Southern Oscillation index (MEI), a measure of the strength of the El Nino/La Nina-Southern Oscillation (a weather effect in the Pacific Ocean that affects global temperatures). This data comes from the ESRL/NOAA Physical Sciences Division.\n",
        "\n",
        "(a) Load the dataset into Python. Split the data into a training set, consisting of all the observations up to and including 2006, and a testing set consisting of the remaining years. A training set refers to the data that will be used to build the model, and a testing set refers to the data we will use to test our predictive ability."
      ]
    },
    {
      "cell_type": "code",
      "metadata": {},
      "source": [
        "import pandas as pd\n",
        "from sklearn.linear_model import LinearRegression\n",
        "from sklearn.metrics import r2_score"
      ],
      "execution_count": null,
      "outputs": []
    },
    {
      "cell_type": "code",
      "metadata": {},
      "source": [
        "data = pd.read_csv(\"climate_change.csv\")\n",
        "train_data = data[data[\"Year\"] <= 2006]\n",
        "test_data = data[data[\"Year\"] > 2006]"
      ],
      "execution_count": null,
      "outputs": []
    },
    {
      "cell_type": "markdown",
      "metadata": {},
      "source": [
        "(b) Build a linear regression model to predict the dependent variable Temp, using MEI, CO2, CH4, N2O, CFC.11, CFC.12, TSI, and Aerosols as independent variables (Year and Month should NOT be used in the model). Use the training set to build the model."
      ]
    },
    {
      "cell_type": "code",
      "metadata": {},
      "source": [
        "# Split train and test data into inputs (X) and output (y)\n",
        "X_train = train_data.drop(columns=[\"Year\", \"Month\", \"Temp\"])\n",
        "y_train = train_data[\"Temp\"]\n",
        "X_test = test_data.drop(columns=[\"Year\", \"Month\", \"Temp\"])\n",
        "y_test = test_data[\"Temp\"]\n",
        "# Fit the linear regression model\n",
        "reg = LinearRegression()\n",
        "reg.fit(X_train, y_train);"
      ],
      "execution_count": null,
      "outputs": []
    },
    {
      "cell_type": "markdown",
      "metadata": {},
      "source": [
        "(c) Determine the coefficient of determination $R^2$ (see lecture notes) for the training data. How good are the temperature forecasts for the test dataset?"
      ]
    },
    {
      "cell_type": "code",
      "metadata": {},
      "source": [
        "train_score = reg.score(X_train, y_train)\n",
        "test_score = reg.score(X_test, y_test)\n",
        "print(f\"R2 of train set: {train_score}\", f\"R2 of test set: {test_score}\", sep=\"\\n\")"
      ],
      "execution_count": null,
      "outputs": []
    }
  ],
  "metadata": {
    "kernelspec": {
      "name": "python3",
      "language": "python",
      "display_name": "Python 3 (ipykernel)"
    }
  },
  "nbformat": 4,
  "nbformat_minor": 4
}