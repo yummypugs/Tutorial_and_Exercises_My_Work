{
  "cells": [
    {
      "cell_type": "raw",
      "metadata": {},
      "source": [
        "---\n",
        "title: Solution 1\n",
        "author: Jiawei Li\n",
        "---"
      ]
    },
    {
      "cell_type": "markdown",
      "metadata": {},
      "source": [
        "# Working with pandas"
      ]
    },
    {
      "cell_type": "code",
      "metadata": {},
      "source": [
        "import numpy as np\n",
        "import pandas as pd"
      ],
      "execution_count": null,
      "outputs": []
    },
    {
      "cell_type": "markdown",
      "metadata": {},
      "source": [
        "(a) Create a pandas series from each of the items below (a list, numpy array, and dictionary)."
      ]
    },
    {
      "cell_type": "code",
      "metadata": {},
      "source": [
        "a_list = list(\"abcdefg\")\n",
        "pd.Series(a_list)"
      ],
      "execution_count": null,
      "outputs": []
    },
    {
      "cell_type": "code",
      "metadata": {},
      "source": [
        "a_array = np.arange(1, 10)\n",
        "pd.Series(a_array)"
      ],
      "execution_count": null,
      "outputs": []
    },
    {
      "cell_type": "code",
      "metadata": {},
      "source": [
        "a_dictionary = {\"A\":0, \"B\":1, \"C\":2, \"D\":3, \"E\":5}\n",
        "pd.Series(a_dictionary)"
      ],
      "execution_count": null,
      "outputs": []
    },
    {
      "cell_type": "markdown",
      "metadata": {},
      "source": [
        "(b) Combine the following to series into one dataframe."
      ]
    },
    {
      "cell_type": "code",
      "metadata": {},
      "source": [
        "ser_1 = pd.Series(list(\"abcedfghijklmnopqrstuvwxyz\"))\n",
        "ser_2 = pd.Series(np.arange(26))\n",
        "# Method 1: Initialize a DataFrame from Series\n",
        "pd.DataFrame({\"series_1\": ser_1, \"series_2\": ser_2})"
      ],
      "execution_count": null,
      "outputs": []
    },
    {
      "cell_type": "code",
      "metadata": {},
      "source": [
        "# Method 2: Concat multiple series into a DataFrame\n",
        "pd.concat([ser_1, ser_2], axis=1)"
      ],
      "execution_count": null,
      "outputs": []
    },
    {
      "cell_type": "markdown",
      "metadata": {},
      "source": [
        "(c) Compute the minimum, 25th percentile, median, 75th percentile, and maximum of the following series."
      ]
    },
    {
      "cell_type": "code",
      "metadata": {},
      "source": [
        "state = np.random.RandomState(100)\n",
        "ser = pd.Series(state.normal(10, 5, 25))"
      ],
      "execution_count": null,
      "outputs": []
    },
    {
      "cell_type": "code",
      "metadata": {},
      "source": [
        "ser.min()"
      ],
      "execution_count": null,
      "outputs": []
    },
    {
      "cell_type": "code",
      "metadata": {},
      "source": [
        "ser.quantile(0.25)"
      ],
      "execution_count": null,
      "outputs": []
    },
    {
      "cell_type": "code",
      "metadata": {},
      "source": [
        "ser.quantile(0.75)"
      ],
      "execution_count": null,
      "outputs": []
    },
    {
      "cell_type": "code",
      "metadata": {},
      "source": [
        "ser.max()"
      ],
      "execution_count": null,
      "outputs": []
    },
    {
      "cell_type": "markdown",
      "metadata": {},
      "source": [
        "(d) Calculate the frequency counts of each unique value in the following series."
      ]
    },
    {
      "cell_type": "code",
      "metadata": {},
      "source": [
        "ser = pd.Series(np.take(list(\"abcdefgh\"), np.random.randint(8, size=30)))\n",
        "ser.value_counts()"
      ],
      "execution_count": null,
      "outputs": []
    },
    {
      "cell_type": "markdown",
      "metadata": {},
      "source": [
        "(e) Reshape the series ser into a dataframe with 7 rows and 5 columns."
      ]
    },
    {
      "cell_type": "code",
      "metadata": {},
      "source": [
        "ser = pd.Series(np.random.randint(1, 10, 35))\n",
        "# Use numpy to reshape values and initialize a new DataFrame\n",
        "array = ser.to_numpy().reshape(7, 5)\n",
        "pd.DataFrame(array)"
      ],
      "execution_count": null,
      "outputs": []
    },
    {
      "cell_type": "markdown",
      "metadata": {},
      "source": [
        "(f) Import the Boston housing dataset, but while importing change the “medv” (median house value) column so that values < 25 becomes “Low” and > 25 becomes “High”. What is the proportion of “High” and “Low” values in the dataset?"
      ]
    },
    {
      "cell_type": "code",
      "metadata": {},
      "source": [
        "data_url = \"http://lib.stat.cmu.edu/datasets/boston\"\n",
        "raw = pd.read_csv(data_url, sep=\"\\s+\", skiprows=22, header=None)\n",
        "# medv is at column 2 at every second row\n",
        "medv = raw.loc[1::2, 2]\n",
        "\n",
        "def replace_high_low(x):\n",
        "    \"\"\"\n",
        "    When x < 25, return \"Low\". If x > 25, return \"High\".\n",
        "    \"\"\"\n",
        "    if x < 25:\n",
        "        return \"Low\"\n",
        "    elif x > 25:\n",
        "        return \"High\"\n",
        "\n",
        "medv = medv.apply(replace_high_low)\n",
        "medv.value_counts() / len(medv)"
      ],
      "execution_count": null,
      "outputs": []
    }
  ],
  "metadata": {
    "kernelspec": {
      "name": "python3",
      "language": "python",
      "display_name": "Python 3 (ipykernel)"
    }
  },
  "nbformat": 4,
  "nbformat_minor": 4
}