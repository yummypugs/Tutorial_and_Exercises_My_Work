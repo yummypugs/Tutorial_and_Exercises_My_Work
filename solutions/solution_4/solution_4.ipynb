{
  "cells": [
    {
      "cell_type": "raw",
      "metadata": {},
      "source": [
        "---\n",
        "title: 'Solution 4: Network Analysis'\n",
        "author: Jiawei Li\n",
        "---"
      ]
    },
    {
      "cell_type": "markdown",
      "metadata": {},
      "source": [
        "# Erdős-Rényi and Barabási-Albert Networks\n",
        "\n",
        "In this exercise, we generate (i) Erdős-Rényi and (ii) Barabási-Albert networks and analyze some of their properties.\n",
        "\n",
        "To build an Erdős-Rényi network, begin with a set of $N$ isolated nodes and iterate over all possible node pairs. Two nodes are connected with probability $p$.\n",
        "\n",
        "Barabási-Albert networks are constructed via preferential attachment after starting from a connected network with $m_{0}$ nodes (e.g., a dyad). Preferential attachment means that a new node is connected to $m \\leq m_{0}$ existing nodes and the probability $p_{i}$ of being connected to an existing node $i$ is proportional to the degree $k_{i}$ of that node (i.e., $p_{i}=k_{i} / \\sum_{j} k_{j}$).\n",
        "\n",
        "(a) You can start with networks that have $N=100$ nodes and later extend your analyses to networks with 1000 and 10000 nodes. Vary the connection probability $p$ for Erdős-Rényi networks and the parameter $m$ for Barabási-Albert networks. What is the influence of these variations on the degree distribution?\n",
        "\n",
        "**Answer:**"
      ]
    },
    {
      "cell_type": "code",
      "metadata": {},
      "source": [
        "import warnings\n",
        "\n",
        "import altair as alt\n",
        "import networkx as nx\n",
        "import pandas as pd\n",
        "\n",
        "warnings.simplefilter(action=\"ignore\", category=FutureWarning)"
      ],
      "execution_count": null,
      "outputs": []
    },
    {
      "cell_type": "code",
      "metadata": {},
      "source": [
        "def plot_erdos_renyi_degree(n, p):\n",
        "    \"\"\"\n",
        "    Plot degree distribution of Erdős-Rényi networks given n and p.\n",
        "    \"\"\"\n",
        "    G = nx.erdos_renyi_graph(n, p)\n",
        "    degree_sequence = pd.DataFrame({\"degree_sequence\": [d for n, d in G.degree()]})\n",
        "    return alt.Chart(degree_sequence).mark_bar().encode(\n",
        "        x= alt.X(\"degree_sequence:Q\", bin=alt.Bin(maxbins=15), title=\"degree_sequence\"),\n",
        "        y=alt.Y(\"count()\", title=\"frequency\"),\n",
        "    )\n",
        "\n",
        "def plot_barabasi_albert_degree(n, m):\n",
        "    \"\"\"\n",
        "    Plot degree distribution of Barabási-Albert networks given n and m.\n",
        "    \"\"\"\n",
        "    G = nx.barabasi_albert_graph(n, m)\n",
        "    degree_sequence = pd.DataFrame({\"degree_sequence\": [d for n, d in G.degree()]})\n",
        "    return alt.Chart(degree_sequence).mark_bar().encode(\n",
        "        x= alt.X(\"degree_sequence:Q\", bin=alt.Bin(maxbins=15), title=\"degree_sequence\"),\n",
        "        y=alt.Y(\"count()\", title=\"frequency\"),\n",
        "    )"
      ],
      "execution_count": null,
      "outputs": []
    },
    {
      "cell_type": "code",
      "metadata": {},
      "source": [
        "plot_erdos_renyi_degree(n=1000, p=0.1)"
      ],
      "execution_count": null,
      "outputs": []
    },
    {
      "cell_type": "code",
      "metadata": {},
      "source": [
        "plot_erdos_renyi_degree(n=1000, p=0.3)"
      ],
      "execution_count": null,
      "outputs": []
    },
    {
      "cell_type": "code",
      "metadata": {},
      "source": [
        "plot_erdos_renyi_degree(n=1000, p=0.8)"
      ],
      "execution_count": null,
      "outputs": []
    },
    {
      "cell_type": "markdown",
      "metadata": {},
      "source": [
        "Higher $p$ results in higher number of degrees for each node for Erdős-Rényi networks."
      ]
    },
    {
      "cell_type": "code",
      "metadata": {},
      "source": [
        "plot_barabasi_albert_degree(n=1000, m=100)"
      ],
      "execution_count": null,
      "outputs": []
    },
    {
      "cell_type": "code",
      "metadata": {},
      "source": [
        "plot_barabasi_albert_degree(n=1000, m=300)"
      ],
      "execution_count": null,
      "outputs": []
    },
    {
      "cell_type": "code",
      "metadata": {},
      "source": [
        "plot_barabasi_albert_degree(n=1000, m=800)"
      ],
      "execution_count": null,
      "outputs": []
    },
    {
      "cell_type": "markdown",
      "metadata": {},
      "source": [
        "Higher $m$ results in more poloarized degree distribution for Barabási-Albert networks.\n",
        "\n",
        "(b) Implement Dijkstra's algorithm and determine the average path length between two nodes for networks (i) and (ii) as a function of the number of nodes $N$. What do you observe?\n",
        "\n",
        "**Answer:**"
      ]
    },
    {
      "cell_type": "code",
      "metadata": {},
      "source": [
        "def calculate_erdos_renyi_length(n):\n",
        "    \"\"\"\n",
        "    Calculate the average path length between two nodes for Erdős-Rényi networks given n.\n",
        "    \"\"\"\n",
        "    G = nx.erdos_renyi_graph(n, p=0.5)\n",
        "    return nx.average_shortest_path_length(G)\n",
        "\n",
        "def calculate_barabasi_albert_length(n):\n",
        "    \"\"\"\n",
        "    Calculate the average path length between two nodes for Barabási-Albert networks given n.\n",
        "    \"\"\"\n",
        "    G = nx.barabasi_albert_graph(n, m=100)\n",
        "    return nx.average_shortest_path_length(G)\n",
        "\n",
        "def plot_erdos_renyi_length():\n",
        "    \"\"\"\n",
        "    Plot the average path length between two nodes for Erdős-Rényi networks as a function of n.\n",
        "    \"\"\"\n",
        "    source = pd.DataFrame(\n",
        "        {\n",
        "            \"n\": range(100, 1000, 50),\n",
        "            \"length\": [calculate_erdos_renyi_length(n) for n in range(100, 1000, 50)],\n",
        "        }\n",
        "    )\n",
        "    return alt.Chart(source).mark_line().encode(\n",
        "        x = \"n\",\n",
        "        y = \"length\"\n",
        "    )\n",
        "\n",
        "def plot_barabasi_albert_length():\n",
        "    \"\"\"\n",
        "    Plot the average path length between two nodes for Barabási-Albert networks as a function of n.\n",
        "    \"\"\"\n",
        "    source = pd.DataFrame(\n",
        "        {\n",
        "            \"n\": range(101, 1001, 10),\n",
        "            \"length\": [calculate_barabasi_albert_length(n) for n in range(101, 1001, 10)],\n",
        "        }\n",
        "    )\n",
        "    return alt.Chart(source).mark_line().encode(\n",
        "        x = \"n\",\n",
        "        y = \"length\"\n",
        "    )"
      ],
      "execution_count": null,
      "outputs": []
    },
    {
      "cell_type": "code",
      "metadata": {},
      "source": [
        "plot_erdos_renyi_length()"
      ],
      "execution_count": null,
      "outputs": []
    },
    {
      "cell_type": "markdown",
      "metadata": {},
      "source": [
        "The average length is almost the same for different values of $n$ in Erdős-Rényi networks."
      ]
    },
    {
      "cell_type": "code",
      "metadata": {},
      "source": [
        "plot_barabasi_albert_length()"
      ],
      "execution_count": null,
      "outputs": []
    },
    {
      "cell_type": "markdown",
      "metadata": {},
      "source": [
        "As $n$ increase, the average length first decreases then increases in Barabási-Albert networks.\n",
        "\n",
        "# Visualizing Networks with graph-tool\n",
        "\n",
        "This exercise will provide a short introduction to working with the network analysis and visualization library graph-tool. (A commonly used alternative is the library NetworkX.)\n",
        "\n",
        "(a) Create a Delaunay triangulation network and its minimum spanning tree using the following commands.\n",
        "\n",
        "**Answer:**"
      ]
    },
    {
      "cell_type": "code",
      "metadata": {},
      "source": [
        "from graph_tool.centrality import betweenness\n",
        "from graph_tool.draw import graph_draw, prop_to_size\n",
        "from graph_tool.generation import triangulation\n",
        "from graph_tool.topology import min_spanning_tree\n",
        "from matplotlib.cm import gist_heat\n",
        "from numpy.random import random\n",
        "import graph_tool as gt"
      ],
      "execution_count": null,
      "outputs": []
    },
    {
      "cell_type": "code",
      "metadata": {},
      "source": [
        "g, pos = triangulation(random((500, 2)) * 4, type=\"delaunay\")\n",
        "tree = min_spanning_tree(g)"
      ],
      "execution_count": null,
      "outputs": []
    },
    {
      "cell_type": "markdown",
      "metadata": {},
      "source": [
        "(b) Visualize the resulting network that contains only those nodes that belong to the minimum spanning tree.\n",
        "\n",
        "**Answer:**"
      ]
    },
    {
      "cell_type": "code",
      "metadata": {},
      "source": [
        "# Refer to documentation on minimum spanning tree:\n",
        "# https://graph-tool.skewed.de/static/doc/topology.html#graph_tool.topology.min_spanning_tree\n",
        "u = gt.GraphView(g, efilt=tree)\n",
        "graph_draw(u, pos=pos);"
      ],
      "execution_count": null,
      "outputs": []
    },
    {
      "cell_type": "markdown",
      "metadata": {},
      "source": [
        "(c) Compute geodesic edge and node betweennness centralities and again visualize the network. Color nodes and use edge widths according to their centralities. (Edge with large centrality should have a large edge width in your plots.)\n",
        "\n",
        "**Answer:**"
      ]
    },
    {
      "cell_type": "code",
      "metadata": {},
      "source": [
        "vp, ep = betweenness(g)\n",
        "# Refer to documentation on betweenness:\n",
        "# https://graph-tool.skewed.de/static/doc/centrality.html#graph_tool.centrality.betweenness\n",
        "graph_draw(\n",
        "    g,\n",
        "    pos,\n",
        "    vertex_fill_color=vp,\n",
        "    vertex_size=prop_to_size(vp, mi=5, ma=15),\n",
        "    edge_pen_width=prop_to_size(ep, mi=0.5, ma=5),\n",
        "    vcmap=gist_heat,\n",
        "    vorder=vp,\n",
        ");"
      ],
      "execution_count": null,
      "outputs": []
    }
  ],
  "metadata": {
    "kernelspec": {
      "name": "python3",
      "language": "python",
      "display_name": "Python 3 (ipykernel)"
    }
  },
  "nbformat": 4,
  "nbformat_minor": 4
}